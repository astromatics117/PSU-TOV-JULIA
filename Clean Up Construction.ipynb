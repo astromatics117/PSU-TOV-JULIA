{
 "cells": [
  {
   "cell_type": "code",
   "execution_count": 1,
   "id": "c4fb1665",
   "metadata": {},
   "outputs": [],
   "source": [
    "using DifferentialEquations\n",
    "using Plots\n",
    "using Quadrature\n",
    "using Roots"
   ]
  },
  {
   "cell_type": "code",
   "execution_count": 2,
   "id": "82118e3b",
   "metadata": {},
   "outputs": [
    {
     "data": {
      "text/plain": [
       "integrate_EOS (generic function with 1 method)"
      ]
     },
     "execution_count": 2,
     "metadata": {},
     "output_type": "execute_result"
    }
   ],
   "source": [
    "function ideal_gas_der(ρ, par)\n",
    "    k,γ = par\n",
    "    return k*γ*ρ^(γ - 1)\n",
    "end\n",
    "function integrate_EOS(ρ, der, par) #pressure comes from here\n",
    "    prob = QuadratureProblem(der, 0.0, ρ, par)\n",
    "    sol = solve(prob, QuadGKJL())#,reltol = 1e-10)\n",
    "    return sol[1]\n",
    "end"
   ]
  },
  {
   "cell_type": "code",
   "execution_count": 3,
   "id": "d8e151af",
   "metadata": {},
   "outputs": [
    {
     "data": {
      "text/plain": [
       "make_TOV (generic function with 1 method)"
      ]
     },
     "execution_count": 3,
     "metadata": {},
     "output_type": "execute_result"
    }
   ],
   "source": [
    "function make_TOV(ρ₀, dP, par)\n",
    "    function TOV_equations!(du, u, par, r)\n",
    "        myRho = u[1]\n",
    "        myM = u[2]\n",
    "        myP = u[3] \n",
    "        mydP = dP(myRho, par) #equal to dp/dρ\n",
    "\n",
    "        if r <= 0.0\n",
    "            du[1] = 0.0\n",
    "            du[2] = 0.0\n",
    "            du[3] = 0.0\n",
    "        else\n",
    "            du[3] = -((myM + 4π*(r^3)*myP)*(myRho + myP)) / (r*(r - 2*myM)) #this is pressure\n",
    "            du[2] = (4π*r^2)*myRho #this is mass\n",
    "            du[1] = du[3]/mydP #this is density\n",
    "        end\n",
    "    end\n",
    "    u0 = [ρ₀, 0.0, integrate_EOS(ρ₀, dP, par)];\n",
    "    Rmin = 0.0; Rguess = Inf ;\n",
    "    prob = ODEProblem(TOV_equations!, u0, (Rmin, Rguess), par)\n",
    "    TOV = init(prob, Tsit5(), dtmax=0.05, force_dtmin=true)\n",
    "    R = 0.0\n",
    "    while true\n",
    "        T_Old = TOV.t #old radius\n",
    "        step!(TOV)\n",
    "        if TOV.u[1] < 0.0 #find zero\n",
    "            f(r) = TOV.sol(r)[1] #density as function of radius\n",
    "            R = find_zero(f, (T_Old, TOV.t), Order1())\n",
    "            break\n",
    "        end\n",
    "    end\n",
    "    return TOV.sol, R\n",
    "end"
   ]
  },
  {
   "cell_type": "code",
   "execution_count": 4,
   "id": "21c8d4e6",
   "metadata": {},
   "outputs": [
    {
     "data": {
      "text/plain": [
       "make_TOV_sequence (generic function with 1 method)"
      ]
     },
     "execution_count": 4,
     "metadata": {},
     "output_type": "execute_result"
    }
   ],
   "source": [
    "function make_TOV_sequence(ρc, dP, par)\n",
    "    mass = []\n",
    "    radius = []\n",
    "    for ρ₀ in ρc\n",
    "        TOV,R = make_TOV(ρ₀, dP, par)\n",
    "        push!(mass, TOV(R)[2])\n",
    "        push!(radius,R)\n",
    "    end\n",
    "    return mass, radius\n",
    "end"
   ]
  },
  {
   "cell_type": "code",
   "execution_count": 5,
   "id": "4e263df3",
   "metadata": {},
   "outputs": [
    {
     "name": "stdout",
     "output_type": "stream",
     "text": [
      "1.23e-10\n",
      "1.2299999999999996e-10"
     ]
    }
   ],
   "source": [
    "γ = 2; k = 123\n",
    "P(ρ) = 123*ρ^2\n",
    "dP(ρ) = 2*P(ρ)/ρ\n",
    "\n",
    "print(P(1e-6),\"\\n\", integrate_EOS(1e-6, ideal_gas_der, [123,2]))"
   ]
  },
  {
   "cell_type": "code",
   "execution_count": 6,
   "id": "08ac5046",
   "metadata": {},
   "outputs": [
    {
     "name": "stdout",
     "output_type": "stream",
     "text": [
      "  0.000521 seconds (3.04 k allocations: 271.320 KiB)\n",
      "11.111051119437711"
     ]
    }
   ],
   "source": [
    "TOV, R = make_TOV(1e-3, ideal_gas_der, [123,2])\n",
    "@time TOV, R = make_TOV(1e-3, ideal_gas_der, [123,2])\n",
    "print(R)"
   ]
  },
  {
   "cell_type": "code",
   "execution_count": 7,
   "id": "ef1bbbac",
   "metadata": {},
   "outputs": [
    {
     "name": "stdout",
     "output_type": "stream",
     "text": [
      " 17.901417 seconds (42.49 M allocations: 1.717 GiB, 2.85% gc time)\n"
     ]
    },
    {
     "data": {
      "image/svg+xml": [
       "<?xml version=\"1.0\" encoding=\"utf-8\"?>\n",
       "<svg xmlns=\"http://www.w3.org/2000/svg\" xmlns:xlink=\"http://www.w3.org/1999/xlink\" width=\"600\" height=\"400\" viewBox=\"0 0 2400 1600\">\n",
       "<defs>\n",
       "  <clipPath id=\"clip810\">\n",
       "    <rect x=\"0\" y=\"0\" width=\"2400\" height=\"1600\"/>\n",
       "  </clipPath>\n",
       "</defs>\n",
       "<path clip-path=\"url(#clip810)\" d=\"\n",
       "M0 1600 L2400 1600 L2400 0 L0 0  Z\n",
       "  \" fill=\"#ffffff\" fill-rule=\"evenodd\" fill-opacity=\"1\"/>\n",
       "<defs>\n",
       "  <clipPath id=\"clip811\">\n",
       "    <rect x=\"480\" y=\"0\" width=\"1681\" height=\"1600\"/>\n",
       "  </clipPath>\n",
       "</defs>\n",
       "<path clip-path=\"url(#clip810)\" d=\"\n",
       "M156.112 1486.45 L2352.76 1486.45 L2352.76 47.2441 L156.112 47.2441  Z\n",
       "  \" fill=\"#ffffff\" fill-rule=\"evenodd\" fill-opacity=\"1\"/>\n",
       "<defs>\n",
       "  <clipPath id=\"clip812\">\n",
       "    <rect x=\"156\" y=\"47\" width=\"2198\" height=\"1440\"/>\n",
       "  </clipPath>\n",
       "</defs>\n",
       "<polyline clip-path=\"url(#clip812)\" style=\"stroke:#000000; stroke-linecap:butt; stroke-linejoin:round; stroke-width:2; stroke-opacity:0.1; fill:none\" points=\"\n",
       "  389.49,1486.45 389.49,47.2441 \n",
       "  \"/>\n",
       "<polyline clip-path=\"url(#clip812)\" style=\"stroke:#000000; stroke-linecap:butt; stroke-linejoin:round; stroke-width:2; stroke-opacity:0.1; fill:none\" points=\"\n",
       "  666.598,1486.45 666.598,47.2441 \n",
       "  \"/>\n",
       "<polyline clip-path=\"url(#clip812)\" style=\"stroke:#000000; stroke-linecap:butt; stroke-linejoin:round; stroke-width:2; stroke-opacity:0.1; fill:none\" points=\"\n",
       "  943.706,1486.45 943.706,47.2441 \n",
       "  \"/>\n",
       "<polyline clip-path=\"url(#clip812)\" style=\"stroke:#000000; stroke-linecap:butt; stroke-linejoin:round; stroke-width:2; stroke-opacity:0.1; fill:none\" points=\"\n",
       "  1220.81,1486.45 1220.81,47.2441 \n",
       "  \"/>\n",
       "<polyline clip-path=\"url(#clip812)\" style=\"stroke:#000000; stroke-linecap:butt; stroke-linejoin:round; stroke-width:2; stroke-opacity:0.1; fill:none\" points=\"\n",
       "  1497.92,1486.45 1497.92,47.2441 \n",
       "  \"/>\n",
       "<polyline clip-path=\"url(#clip812)\" style=\"stroke:#000000; stroke-linecap:butt; stroke-linejoin:round; stroke-width:2; stroke-opacity:0.1; fill:none\" points=\"\n",
       "  1775.03,1486.45 1775.03,47.2441 \n",
       "  \"/>\n",
       "<polyline clip-path=\"url(#clip812)\" style=\"stroke:#000000; stroke-linecap:butt; stroke-linejoin:round; stroke-width:2; stroke-opacity:0.1; fill:none\" points=\"\n",
       "  2052.14,1486.45 2052.14,47.2441 \n",
       "  \"/>\n",
       "<polyline clip-path=\"url(#clip812)\" style=\"stroke:#000000; stroke-linecap:butt; stroke-linejoin:round; stroke-width:2; stroke-opacity:0.1; fill:none\" points=\"\n",
       "  2329.25,1486.45 2329.25,47.2441 \n",
       "  \"/>\n",
       "<polyline clip-path=\"url(#clip810)\" style=\"stroke:#000000; stroke-linecap:butt; stroke-linejoin:round; stroke-width:4; stroke-opacity:1; fill:none\" points=\"\n",
       "  156.112,1486.45 2352.76,1486.45 \n",
       "  \"/>\n",
       "<polyline clip-path=\"url(#clip810)\" style=\"stroke:#000000; stroke-linecap:butt; stroke-linejoin:round; stroke-width:4; stroke-opacity:1; fill:none\" points=\"\n",
       "  389.49,1486.45 389.49,1469.18 \n",
       "  \"/>\n",
       "<polyline clip-path=\"url(#clip810)\" style=\"stroke:#000000; stroke-linecap:butt; stroke-linejoin:round; stroke-width:4; stroke-opacity:1; fill:none\" points=\"\n",
       "  666.598,1486.45 666.598,1469.18 \n",
       "  \"/>\n",
       "<polyline clip-path=\"url(#clip810)\" style=\"stroke:#000000; stroke-linecap:butt; stroke-linejoin:round; stroke-width:4; stroke-opacity:1; fill:none\" points=\"\n",
       "  943.706,1486.45 943.706,1469.18 \n",
       "  \"/>\n",
       "<polyline clip-path=\"url(#clip810)\" style=\"stroke:#000000; stroke-linecap:butt; stroke-linejoin:round; stroke-width:4; stroke-opacity:1; fill:none\" points=\"\n",
       "  1220.81,1486.45 1220.81,1469.18 \n",
       "  \"/>\n",
       "<polyline clip-path=\"url(#clip810)\" style=\"stroke:#000000; stroke-linecap:butt; stroke-linejoin:round; stroke-width:4; stroke-opacity:1; fill:none\" points=\"\n",
       "  1497.92,1486.45 1497.92,1469.18 \n",
       "  \"/>\n",
       "<polyline clip-path=\"url(#clip810)\" style=\"stroke:#000000; stroke-linecap:butt; stroke-linejoin:round; stroke-width:4; stroke-opacity:1; fill:none\" points=\"\n",
       "  1775.03,1486.45 1775.03,1469.18 \n",
       "  \"/>\n",
       "<polyline clip-path=\"url(#clip810)\" style=\"stroke:#000000; stroke-linecap:butt; stroke-linejoin:round; stroke-width:4; stroke-opacity:1; fill:none\" points=\"\n",
       "  2052.14,1486.45 2052.14,1469.18 \n",
       "  \"/>\n",
       "<polyline clip-path=\"url(#clip810)\" style=\"stroke:#000000; stroke-linecap:butt; stroke-linejoin:round; stroke-width:4; stroke-opacity:1; fill:none\" points=\"\n",
       "  2329.25,1486.45 2329.25,1469.18 \n",
       "  \"/>\n",
       "<path clip-path=\"url(#clip810)\" d=\"M378.379 1512.56 L400.601 1512.56 L400.601 1514.55 L388.055 1547.12 L383.171 1547.12 L394.976 1516.5 L378.379 1516.5 L378.379 1512.56 Z\" fill=\"#000000\" fill-rule=\"evenodd\" fill-opacity=\"1\" /><path clip-path=\"url(#clip810)\" d=\"M666.598 1530.71 Q663.265 1530.71 661.344 1532.49 Q659.445 1534.27 659.445 1537.4 Q659.445 1540.52 661.344 1542.31 Q663.265 1544.09 666.598 1544.09 Q669.932 1544.09 671.853 1542.31 Q673.774 1540.5 673.774 1537.4 Q673.774 1534.27 671.853 1532.49 Q669.955 1530.71 666.598 1530.71 M661.922 1528.72 Q658.913 1527.98 657.223 1525.92 Q655.557 1523.86 655.557 1520.89 Q655.557 1516.75 658.496 1514.34 Q661.459 1511.93 666.598 1511.93 Q671.76 1511.93 674.7 1514.34 Q677.64 1516.75 677.64 1520.89 Q677.64 1523.86 675.95 1525.92 Q674.283 1527.98 671.297 1528.72 Q674.677 1529.5 676.552 1531.8 Q678.45 1534.09 678.45 1537.4 Q678.45 1542.42 675.371 1545.11 Q672.316 1547.79 666.598 1547.79 Q660.881 1547.79 657.802 1545.11 Q654.746 1542.42 654.746 1537.4 Q654.746 1534.09 656.645 1531.8 Q658.543 1529.5 661.922 1528.72 M660.209 1521.33 Q660.209 1524.02 661.876 1525.52 Q663.566 1527.03 666.598 1527.03 Q669.607 1527.03 671.297 1525.52 Q673.01 1524.02 673.01 1521.33 Q673.01 1518.65 671.297 1517.14 Q669.607 1515.64 666.598 1515.64 Q663.566 1515.64 661.876 1517.14 Q660.209 1518.65 660.209 1521.33 Z\" fill=\"#000000\" fill-rule=\"evenodd\" fill-opacity=\"1\" /><path clip-path=\"url(#clip810)\" d=\"M934.007 1546.4 L934.007 1542.14 Q935.767 1542.98 937.572 1543.42 Q939.378 1543.86 941.114 1543.86 Q945.743 1543.86 948.174 1540.75 Q950.628 1537.63 950.975 1531.29 Q949.632 1533.28 947.572 1534.34 Q945.512 1535.41 943.012 1535.41 Q937.827 1535.41 934.794 1532.28 Q931.785 1529.13 931.785 1523.69 Q931.785 1518.37 934.933 1515.15 Q938.081 1511.93 943.313 1511.93 Q949.308 1511.93 952.456 1516.54 Q955.628 1521.12 955.628 1529.87 Q955.628 1538.05 951.739 1542.93 Q947.873 1547.79 941.322 1547.79 Q939.563 1547.79 937.757 1547.44 Q935.952 1547.1 934.007 1546.4 M943.313 1531.75 Q946.461 1531.75 948.29 1529.6 Q950.141 1527.44 950.141 1523.69 Q950.141 1519.97 948.29 1517.81 Q946.461 1515.64 943.313 1515.64 Q940.165 1515.64 938.313 1517.81 Q936.484 1519.97 936.484 1523.69 Q936.484 1527.44 938.313 1529.6 Q940.165 1531.75 943.313 1531.75 Z\" fill=\"#000000\" fill-rule=\"evenodd\" fill-opacity=\"1\" /><path clip-path=\"url(#clip810)\" d=\"M1195.5 1543.18 L1203.14 1543.18 L1203.14 1516.82 L1194.83 1518.49 L1194.83 1514.23 L1203.09 1512.56 L1207.77 1512.56 L1207.77 1543.18 L1215.41 1543.18 L1215.41 1547.12 L1195.5 1547.12 L1195.5 1543.18 Z\" fill=\"#000000\" fill-rule=\"evenodd\" fill-opacity=\"1\" /><path clip-path=\"url(#clip810)\" d=\"M1234.85 1515.64 Q1231.24 1515.64 1229.41 1519.2 Q1227.61 1522.75 1227.61 1529.87 Q1227.61 1536.98 1229.41 1540.55 Q1231.24 1544.09 1234.85 1544.09 Q1238.49 1544.09 1240.29 1540.55 Q1242.12 1536.98 1242.12 1529.87 Q1242.12 1522.75 1240.29 1519.2 Q1238.49 1515.64 1234.85 1515.64 M1234.85 1511.93 Q1240.66 1511.93 1243.72 1516.54 Q1246.8 1521.12 1246.8 1529.87 Q1246.8 1538.6 1243.72 1543.21 Q1240.66 1547.79 1234.85 1547.79 Q1229.04 1547.79 1225.96 1543.21 Q1222.91 1538.6 1222.91 1529.87 Q1222.91 1521.12 1225.96 1516.54 Q1229.04 1511.93 1234.85 1511.93 Z\" fill=\"#000000\" fill-rule=\"evenodd\" fill-opacity=\"1\" /><path clip-path=\"url(#clip810)\" d=\"M1473.22 1543.18 L1480.86 1543.18 L1480.86 1516.82 L1472.55 1518.49 L1472.55 1514.23 L1480.82 1512.56 L1485.49 1512.56 L1485.49 1543.18 L1493.13 1543.18 L1493.13 1547.12 L1473.22 1547.12 L1473.22 1543.18 Z\" fill=\"#000000\" fill-rule=\"evenodd\" fill-opacity=\"1\" /><path clip-path=\"url(#clip810)\" d=\"M1503.39 1543.18 L1511.02 1543.18 L1511.02 1516.82 L1502.71 1518.49 L1502.71 1514.23 L1510.98 1512.56 L1515.65 1512.56 L1515.65 1543.18 L1523.29 1543.18 L1523.29 1547.12 L1503.39 1547.12 L1503.39 1543.18 Z\" fill=\"#000000\" fill-rule=\"evenodd\" fill-opacity=\"1\" /><path clip-path=\"url(#clip810)\" d=\"M1750.52 1543.18 L1758.16 1543.18 L1758.16 1516.82 L1749.85 1518.49 L1749.85 1514.23 L1758.11 1512.56 L1762.79 1512.56 L1762.79 1543.18 L1770.42 1543.18 L1770.42 1547.12 L1750.52 1547.12 L1750.52 1543.18 Z\" fill=\"#000000\" fill-rule=\"evenodd\" fill-opacity=\"1\" /><path clip-path=\"url(#clip810)\" d=\"M1783.9 1543.18 L1800.22 1543.18 L1800.22 1547.12 L1778.27 1547.12 L1778.27 1543.18 Q1780.93 1540.43 1785.52 1535.8 Q1790.12 1531.15 1791.3 1529.81 Q1793.55 1527.28 1794.43 1525.55 Q1795.33 1523.79 1795.33 1522.1 Q1795.33 1519.34 1793.39 1517.61 Q1791.47 1515.87 1788.36 1515.87 Q1786.16 1515.87 1783.71 1516.63 Q1781.28 1517.4 1778.5 1518.95 L1778.5 1514.23 Q1781.33 1513.09 1783.78 1512.51 Q1786.23 1511.93 1788.27 1511.93 Q1793.64 1511.93 1796.84 1514.62 Q1800.03 1517.31 1800.03 1521.8 Q1800.03 1523.93 1799.22 1525.85 Q1798.43 1527.74 1796.33 1530.34 Q1795.75 1531.01 1792.65 1534.23 Q1789.54 1537.42 1783.9 1543.18 Z\" fill=\"#000000\" fill-rule=\"evenodd\" fill-opacity=\"1\" /><path clip-path=\"url(#clip810)\" d=\"M2027.15 1543.18 L2034.79 1543.18 L2034.79 1516.82 L2026.48 1518.49 L2026.48 1514.23 L2034.74 1512.56 L2039.42 1512.56 L2039.42 1543.18 L2047.06 1543.18 L2047.06 1547.12 L2027.15 1547.12 L2027.15 1543.18 Z\" fill=\"#000000\" fill-rule=\"evenodd\" fill-opacity=\"1\" /><path clip-path=\"url(#clip810)\" d=\"M2070.67 1528.49 Q2074.03 1529.2 2075.9 1531.47 Q2077.8 1533.74 2077.8 1537.07 Q2077.8 1542.19 2074.28 1544.99 Q2070.76 1547.79 2064.28 1547.79 Q2062.1 1547.79 2059.79 1547.35 Q2057.5 1546.93 2055.04 1546.08 L2055.04 1541.56 Q2056.99 1542.7 2059.3 1543.28 Q2061.62 1543.86 2064.14 1543.86 Q2068.54 1543.86 2070.83 1542.12 Q2073.15 1540.38 2073.15 1537.07 Q2073.15 1534.02 2070.99 1532.31 Q2068.86 1530.57 2065.04 1530.57 L2061.02 1530.57 L2061.02 1526.73 L2065.23 1526.73 Q2068.68 1526.73 2070.51 1525.36 Q2072.34 1523.97 2072.34 1521.38 Q2072.34 1518.72 2070.44 1517.31 Q2068.56 1515.87 2065.04 1515.87 Q2063.12 1515.87 2060.92 1516.29 Q2058.72 1516.7 2056.09 1517.58 L2056.09 1513.42 Q2058.75 1512.68 2061.06 1512.31 Q2063.4 1511.93 2065.46 1511.93 Q2070.78 1511.93 2073.89 1514.37 Q2076.99 1516.77 2076.99 1520.89 Q2076.99 1523.76 2075.34 1525.75 Q2073.7 1527.72 2070.67 1528.49 Z\" fill=\"#000000\" fill-rule=\"evenodd\" fill-opacity=\"1\" /><path clip-path=\"url(#clip810)\" d=\"M2303.69 1543.18 L2311.33 1543.18 L2311.33 1516.82 L2303.02 1518.49 L2303.02 1514.23 L2311.28 1512.56 L2315.96 1512.56 L2315.96 1543.18 L2323.6 1543.18 L2323.6 1547.12 L2303.69 1547.12 L2303.69 1543.18 Z\" fill=\"#000000\" fill-rule=\"evenodd\" fill-opacity=\"1\" /><path clip-path=\"url(#clip810)\" d=\"M2345.89 1516.63 L2334.08 1535.08 L2345.89 1535.08 L2345.89 1516.63 M2344.66 1512.56 L2350.54 1512.56 L2350.54 1535.08 L2355.47 1535.08 L2355.47 1538.97 L2350.54 1538.97 L2350.54 1547.12 L2345.89 1547.12 L2345.89 1538.97 L2330.29 1538.97 L2330.29 1534.46 L2344.66 1512.56 Z\" fill=\"#000000\" fill-rule=\"evenodd\" fill-opacity=\"1\" /><polyline clip-path=\"url(#clip812)\" style=\"stroke:#000000; stroke-linecap:butt; stroke-linejoin:round; stroke-width:2; stroke-opacity:0.1; fill:none\" points=\"\n",
       "  156.112,1466.84 2352.76,1466.84 \n",
       "  \"/>\n",
       "<polyline clip-path=\"url(#clip812)\" style=\"stroke:#000000; stroke-linecap:butt; stroke-linejoin:round; stroke-width:2; stroke-opacity:0.1; fill:none\" points=\"\n",
       "  156.112,1155.27 2352.76,1155.27 \n",
       "  \"/>\n",
       "<polyline clip-path=\"url(#clip812)\" style=\"stroke:#000000; stroke-linecap:butt; stroke-linejoin:round; stroke-width:2; stroke-opacity:0.1; fill:none\" points=\"\n",
       "  156.112,843.708 2352.76,843.708 \n",
       "  \"/>\n",
       "<polyline clip-path=\"url(#clip812)\" style=\"stroke:#000000; stroke-linecap:butt; stroke-linejoin:round; stroke-width:2; stroke-opacity:0.1; fill:none\" points=\"\n",
       "  156.112,532.141 2352.76,532.141 \n",
       "  \"/>\n",
       "<polyline clip-path=\"url(#clip812)\" style=\"stroke:#000000; stroke-linecap:butt; stroke-linejoin:round; stroke-width:2; stroke-opacity:0.1; fill:none\" points=\"\n",
       "  156.112,220.575 2352.76,220.575 \n",
       "  \"/>\n",
       "<polyline clip-path=\"url(#clip810)\" style=\"stroke:#000000; stroke-linecap:butt; stroke-linejoin:round; stroke-width:4; stroke-opacity:1; fill:none\" points=\"\n",
       "  156.112,1486.45 156.112,47.2441 \n",
       "  \"/>\n",
       "<polyline clip-path=\"url(#clip810)\" style=\"stroke:#000000; stroke-linecap:butt; stroke-linejoin:round; stroke-width:4; stroke-opacity:1; fill:none\" points=\"\n",
       "  156.112,1466.84 182.472,1466.84 \n",
       "  \"/>\n",
       "<polyline clip-path=\"url(#clip810)\" style=\"stroke:#000000; stroke-linecap:butt; stroke-linejoin:round; stroke-width:4; stroke-opacity:1; fill:none\" points=\"\n",
       "  156.112,1155.27 182.472,1155.27 \n",
       "  \"/>\n",
       "<polyline clip-path=\"url(#clip810)\" style=\"stroke:#000000; stroke-linecap:butt; stroke-linejoin:round; stroke-width:4; stroke-opacity:1; fill:none\" points=\"\n",
       "  156.112,843.708 182.472,843.708 \n",
       "  \"/>\n",
       "<polyline clip-path=\"url(#clip810)\" style=\"stroke:#000000; stroke-linecap:butt; stroke-linejoin:round; stroke-width:4; stroke-opacity:1; fill:none\" points=\"\n",
       "  156.112,532.141 182.472,532.141 \n",
       "  \"/>\n",
       "<polyline clip-path=\"url(#clip810)\" style=\"stroke:#000000; stroke-linecap:butt; stroke-linejoin:round; stroke-width:4; stroke-opacity:1; fill:none\" points=\"\n",
       "  156.112,220.575 182.472,220.575 \n",
       "  \"/>\n",
       "<path clip-path=\"url(#clip810)\" d=\"M62.9365 1452.64 Q59.3254 1452.64 57.4967 1456.2 Q55.6912 1459.75 55.6912 1466.88 Q55.6912 1473.98 57.4967 1477.55 Q59.3254 1481.09 62.9365 1481.09 Q66.5707 1481.09 68.3763 1477.55 Q70.205 1473.98 70.205 1466.88 Q70.205 1459.75 68.3763 1456.2 Q66.5707 1452.64 62.9365 1452.64 M62.9365 1448.94 Q68.7467 1448.94 71.8022 1453.54 Q74.8809 1458.13 74.8809 1466.88 Q74.8809 1475.6 71.8022 1480.21 Q68.7467 1484.79 62.9365 1484.79 Q57.1264 1484.79 54.0477 1480.21 Q50.9921 1475.6 50.9921 1466.88 Q50.9921 1458.13 54.0477 1453.54 Q57.1264 1448.94 62.9365 1448.94 Z\" fill=\"#000000\" fill-rule=\"evenodd\" fill-opacity=\"1\" /><path clip-path=\"url(#clip810)\" d=\"M83.0984 1478.24 L87.9827 1478.24 L87.9827 1484.12 L83.0984 1484.12 L83.0984 1478.24 Z\" fill=\"#000000\" fill-rule=\"evenodd\" fill-opacity=\"1\" /><path clip-path=\"url(#clip810)\" d=\"M108.168 1452.64 Q104.557 1452.64 102.728 1456.2 Q100.922 1459.75 100.922 1466.88 Q100.922 1473.98 102.728 1477.55 Q104.557 1481.09 108.168 1481.09 Q111.802 1481.09 113.608 1477.55 Q115.436 1473.98 115.436 1466.88 Q115.436 1459.75 113.608 1456.2 Q111.802 1452.64 108.168 1452.64 M108.168 1448.94 Q113.978 1448.94 117.033 1453.54 Q120.112 1458.13 120.112 1466.88 Q120.112 1475.6 117.033 1480.21 Q113.978 1484.79 108.168 1484.79 Q102.358 1484.79 99.2789 1480.21 Q96.2234 1475.6 96.2234 1466.88 Q96.2234 1458.13 99.2789 1453.54 Q102.358 1448.94 108.168 1448.94 Z\" fill=\"#000000\" fill-rule=\"evenodd\" fill-opacity=\"1\" /><path clip-path=\"url(#clip810)\" d=\"M63.9319 1141.07 Q60.3208 1141.07 58.4921 1144.64 Q56.6865 1148.18 56.6865 1155.31 Q56.6865 1162.42 58.4921 1165.98 Q60.3208 1169.52 63.9319 1169.52 Q67.5661 1169.52 69.3717 1165.98 Q71.2004 1162.42 71.2004 1155.31 Q71.2004 1148.18 69.3717 1144.64 Q67.5661 1141.07 63.9319 1141.07 M63.9319 1137.37 Q69.742 1137.37 72.7976 1141.98 Q75.8763 1146.56 75.8763 1155.31 Q75.8763 1164.04 72.7976 1168.64 Q69.742 1173.23 63.9319 1173.23 Q58.1217 1173.23 55.043 1168.64 Q51.9875 1164.04 51.9875 1155.31 Q51.9875 1146.56 55.043 1141.98 Q58.1217 1137.37 63.9319 1137.37 Z\" fill=\"#000000\" fill-rule=\"evenodd\" fill-opacity=\"1\" /><path clip-path=\"url(#clip810)\" d=\"M84.0938 1166.67 L88.978 1166.67 L88.978 1172.55 L84.0938 1172.55 L84.0938 1166.67 Z\" fill=\"#000000\" fill-rule=\"evenodd\" fill-opacity=\"1\" /><path clip-path=\"url(#clip810)\" d=\"M99.2095 1137.99 L117.566 1137.99 L117.566 1141.93 L103.492 1141.93 L103.492 1150.4 Q104.51 1150.05 105.529 1149.89 Q106.547 1149.71 107.566 1149.71 Q113.353 1149.71 116.733 1152.88 Q120.112 1156.05 120.112 1161.47 Q120.112 1167.05 116.64 1170.15 Q113.168 1173.23 106.848 1173.23 Q104.672 1173.23 102.404 1172.86 Q100.159 1172.48 97.7511 1171.74 L97.7511 1167.05 Q99.8345 1168.18 102.057 1168.73 Q104.279 1169.29 106.756 1169.29 Q110.76 1169.29 113.098 1167.18 Q115.436 1165.08 115.436 1161.47 Q115.436 1157.86 113.098 1155.75 Q110.76 1153.64 106.756 1153.64 Q104.881 1153.64 103.006 1154.06 Q101.154 1154.48 99.2095 1155.36 L99.2095 1137.99 Z\" fill=\"#000000\" fill-rule=\"evenodd\" fill-opacity=\"1\" /><path clip-path=\"url(#clip810)\" d=\"M53.7467 857.053 L61.3856 857.053 L61.3856 830.687 L53.0754 832.354 L53.0754 828.095 L61.3393 826.428 L66.0152 826.428 L66.0152 857.053 L73.654 857.053 L73.654 860.988 L53.7467 860.988 L53.7467 857.053 Z\" fill=\"#000000\" fill-rule=\"evenodd\" fill-opacity=\"1\" /><path clip-path=\"url(#clip810)\" d=\"M83.0984 855.108 L87.9827 855.108 L87.9827 860.988 L83.0984 860.988 L83.0984 855.108 Z\" fill=\"#000000\" fill-rule=\"evenodd\" fill-opacity=\"1\" /><path clip-path=\"url(#clip810)\" d=\"M108.168 829.507 Q104.557 829.507 102.728 833.071 Q100.922 836.613 100.922 843.743 Q100.922 850.849 102.728 854.414 Q104.557 857.955 108.168 857.955 Q111.802 857.955 113.608 854.414 Q115.436 850.849 115.436 843.743 Q115.436 836.613 113.608 833.071 Q111.802 829.507 108.168 829.507 M108.168 825.803 Q113.978 825.803 117.033 830.409 Q120.112 834.993 120.112 843.743 Q120.112 852.469 117.033 857.076 Q113.978 861.659 108.168 861.659 Q102.358 861.659 99.2789 857.076 Q96.2234 852.469 96.2234 843.743 Q96.2234 834.993 99.2789 830.409 Q102.358 825.803 108.168 825.803 Z\" fill=\"#000000\" fill-rule=\"evenodd\" fill-opacity=\"1\" /><path clip-path=\"url(#clip810)\" d=\"M54.7421 545.486 L62.381 545.486 L62.381 519.121 L54.0708 520.787 L54.0708 516.528 L62.3347 514.861 L67.0106 514.861 L67.0106 545.486 L74.6494 545.486 L74.6494 549.421 L54.7421 549.421 L54.7421 545.486 Z\" fill=\"#000000\" fill-rule=\"evenodd\" fill-opacity=\"1\" /><path clip-path=\"url(#clip810)\" d=\"M84.0938 543.542 L88.978 543.542 L88.978 549.421 L84.0938 549.421 L84.0938 543.542 Z\" fill=\"#000000\" fill-rule=\"evenodd\" fill-opacity=\"1\" /><path clip-path=\"url(#clip810)\" d=\"M99.2095 514.861 L117.566 514.861 L117.566 518.796 L103.492 518.796 L103.492 527.269 Q104.51 526.921 105.529 526.759 Q106.547 526.574 107.566 526.574 Q113.353 526.574 116.733 529.745 Q120.112 532.917 120.112 538.333 Q120.112 543.912 116.64 547.014 Q113.168 550.093 106.848 550.093 Q104.672 550.093 102.404 549.722 Q100.159 549.352 97.7511 548.611 L97.7511 543.912 Q99.8345 545.046 102.057 545.602 Q104.279 546.157 106.756 546.157 Q110.76 546.157 113.098 544.051 Q115.436 541.944 115.436 538.333 Q115.436 534.722 113.098 532.616 Q110.76 530.509 106.756 530.509 Q104.881 530.509 103.006 530.926 Q101.154 531.343 99.2095 532.222 L99.2095 514.861 Z\" fill=\"#000000\" fill-rule=\"evenodd\" fill-opacity=\"1\" /><path clip-path=\"url(#clip810)\" d=\"M56.9643 233.92 L73.2837 233.92 L73.2837 237.855 L51.3393 237.855 L51.3393 233.92 Q54.0014 231.165 58.5847 226.535 Q63.1911 221.883 64.3717 220.54 Q66.617 218.017 67.4967 216.281 Q68.3994 214.522 68.3994 212.832 Q68.3994 210.077 66.455 208.341 Q64.5337 206.605 61.4319 206.605 Q59.2328 206.605 56.7791 207.369 Q54.3486 208.133 51.5708 209.684 L51.5708 204.961 Q54.3949 203.827 56.8486 203.248 Q59.3023 202.67 61.3393 202.67 Q66.7096 202.67 69.9041 205.355 Q73.0985 208.04 73.0985 212.531 Q73.0985 214.66 72.2883 216.582 Q71.5013 218.48 69.3948 221.072 Q68.8161 221.744 65.7143 224.961 Q62.6124 228.156 56.9643 233.92 Z\" fill=\"#000000\" fill-rule=\"evenodd\" fill-opacity=\"1\" /><path clip-path=\"url(#clip810)\" d=\"M83.0984 231.975 L87.9827 231.975 L87.9827 237.855 L83.0984 237.855 L83.0984 231.975 Z\" fill=\"#000000\" fill-rule=\"evenodd\" fill-opacity=\"1\" /><path clip-path=\"url(#clip810)\" d=\"M108.168 206.373 Q104.557 206.373 102.728 209.938 Q100.922 213.48 100.922 220.609 Q100.922 227.716 102.728 231.281 Q104.557 234.822 108.168 234.822 Q111.802 234.822 113.608 231.281 Q115.436 227.716 115.436 220.609 Q115.436 213.48 113.608 209.938 Q111.802 206.373 108.168 206.373 M108.168 202.67 Q113.978 202.67 117.033 207.276 Q120.112 211.86 120.112 220.609 Q120.112 229.336 117.033 233.943 Q113.978 238.526 108.168 238.526 Q102.358 238.526 99.2789 233.943 Q96.2234 229.336 96.2234 220.609 Q96.2234 211.86 99.2789 207.276 Q102.358 202.67 108.168 202.67 Z\" fill=\"#000000\" fill-rule=\"evenodd\" fill-opacity=\"1\" /><polyline clip-path=\"url(#clip812)\" style=\"stroke:#009af9; stroke-linecap:butt; stroke-linejoin:round; stroke-width:4; stroke-opacity:1; fill:none\" points=\"\n",
       "  2290.59,1445.72 2186.12,1253.08 2089.72,1089.98 2000.47,951.24 1917.62,832.715 1840.51,731.082 1768.56,643.642 1701.27,568.188 1638.21,502.91 1578.99,446.308 \n",
       "  1523.27,397.136 1470.76,354.351 1421.2,317.079 1374.29,284.581 1329.89,256.229 1287.78,231.491 1247.79,209.909 1209.76,191.094 1173.56,174.708 1139.06,160.459 \n",
       "  1106.14,148.097 1074.71,137.402 1044.63,128.183 1015.86,120.273 988.297,113.525 961.911,107.812 936.524,103.02 912.179,99.0501 888.782,95.8133 866.283,93.2317 \n",
       "  844.628,91.2361 823.775,89.7647 803.676,88.7627 784.297,88.1812 765.631,87.9763 747.547,88.1089 730.109,88.5439 713.257,89.2499 697.298,90.1985 681.182,91.3645 \n",
       "  665.929,92.7247 651.15,94.2587 636.831,95.9478 622.951,97.7751 609.492,99.7255 596.435,101.785 583.645,103.942 571.534,106.184 559.514,108.502 547.873,110.886 \n",
       "  536.624,113.327 525.654,115.819 515.147,118.353 504.606,120.925 494.504,123.528 484.668,126.157 475.094,128.806 465.764,131.473 456.674,134.153 447.817,136.842 \n",
       "  439.18,139.537 430.812,142.236 422.544,144.935 414.529,147.633 406.71,150.326 399.075,153.013 391.623,155.693 384.343,158.363 377.236,161.022 370.288,163.669 \n",
       "  363.502,166.303 356.867,168.922 350.383,171.526 344.04,174.113 337.84,176.683 331.77,179.235 325.84,181.769 319.311,184.284 314.35,186.779 308.789,189.255 \n",
       "  303.341,191.71 298.01,194.145 292.807,196.559 287.674,198.951 282.666,201.323 277.948,203.673 272.944,206.002 268.23,208.309 263.708,210.595 259.078,212.859 \n",
       "  254.637,215.101 249.312,217.321 246.008,219.521 241.818,221.698 237.711,223.854 233.673,225.988 229.718,228.101 225.835,230.193 222.493,232.264 218.281,234.314 \n",
       "  \n",
       "  \"/>\n",
       "<path clip-path=\"url(#clip810)\" d=\"\n",
       "M1983.03 216.178 L2279.53 216.178 L2279.53 95.2176 L1983.03 95.2176  Z\n",
       "  \" fill=\"#ffffff\" fill-rule=\"evenodd\" fill-opacity=\"1\"/>\n",
       "<polyline clip-path=\"url(#clip810)\" style=\"stroke:#000000; stroke-linecap:butt; stroke-linejoin:round; stroke-width:4; stroke-opacity:1; fill:none\" points=\"\n",
       "  1983.03,216.178 2279.53,216.178 2279.53,95.2176 1983.03,95.2176 1983.03,216.178 \n",
       "  \"/>\n",
       "<polyline clip-path=\"url(#clip810)\" style=\"stroke:#009af9; stroke-linecap:butt; stroke-linejoin:round; stroke-width:4; stroke-opacity:1; fill:none\" points=\"\n",
       "  2007.44,155.698 2153.88,155.698 \n",
       "  \"/>\n",
       "<path clip-path=\"url(#clip810)\" d=\"M2192.13 175.385 Q2190.33 180.015 2188.61 181.427 Q2186.9 182.839 2184.03 182.839 L2180.63 182.839 L2180.63 179.274 L2183.13 179.274 Q2184.89 179.274 2185.86 178.44 Q2186.83 177.607 2188.01 174.505 L2188.78 172.561 L2178.29 147.052 L2182.8 147.052 L2190.91 167.329 L2199.01 147.052 L2203.52 147.052 L2192.13 175.385 Z\" fill=\"#000000\" fill-rule=\"evenodd\" fill-opacity=\"1\" /><path clip-path=\"url(#clip810)\" d=\"M2210.81 169.042 L2218.45 169.042 L2218.45 142.677 L2210.14 144.343 L2210.14 140.084 L2218.41 138.418 L2223.08 138.418 L2223.08 169.042 L2230.72 169.042 L2230.72 172.978 L2210.81 172.978 L2210.81 169.042 Z\" fill=\"#000000\" fill-rule=\"evenodd\" fill-opacity=\"1\" /></svg>\n"
      ]
     },
     "execution_count": 7,
     "metadata": {},
     "output_type": "execute_result"
    }
   ],
   "source": [
    "ρ₀ = collect(1.0e-2:1.0e-2:2.0e-2)\n",
    "M,R = make_TOV_sequence(ρ₀, ideal_gas_der, [123,2])\n",
    "@time begin\n",
    "    ρ₀ = collect(1.0e-5:1.0e-4:1.0e-2)\n",
    "    M,R = make_TOV_sequence(ρ₀, ideal_gas_der, [123,2])\n",
    "    plot(R, M)\n",
    "end"
   ]
  },
  {
   "cell_type": "code",
   "execution_count": 18,
   "id": "d86e69a0",
   "metadata": {},
   "outputs": [
    {
     "data": {
      "image/svg+xml": [
       "<?xml version=\"1.0\" encoding=\"utf-8\"?>\n",
       "<svg xmlns=\"http://www.w3.org/2000/svg\" xmlns:xlink=\"http://www.w3.org/1999/xlink\" width=\"600\" height=\"400\" viewBox=\"0 0 2400 1600\">\n",
       "<defs>\n",
       "  <clipPath id=\"clip010\">\n",
       "    <rect x=\"0\" y=\"0\" width=\"2400\" height=\"1600\"/>\n",
       "  </clipPath>\n",
       "</defs>\n",
       "<path clip-path=\"url(#clip010)\" d=\"\n",
       "M0 1600 L2400 1600 L2400 0 L0 0  Z\n",
       "  \" fill=\"#ffffff\" fill-rule=\"evenodd\" fill-opacity=\"1\"/>\n",
       "<defs>\n",
       "  <clipPath id=\"clip011\">\n",
       "    <rect x=\"480\" y=\"0\" width=\"1681\" height=\"1600\"/>\n",
       "  </clipPath>\n",
       "</defs>\n",
       "<path clip-path=\"url(#clip010)\" d=\"\n",
       "M219.38 1423.18 L2352.76 1423.18 L2352.76 123.472 L219.38 123.472  Z\n",
       "  \" fill=\"#ffffff\" fill-rule=\"evenodd\" fill-opacity=\"1\"/>\n",
       "<defs>\n",
       "  <clipPath id=\"clip012\">\n",
       "    <rect x=\"219\" y=\"123\" width=\"2134\" height=\"1301\"/>\n",
       "  </clipPath>\n",
       "</defs>\n",
       "<polyline clip-path=\"url(#clip012)\" style=\"stroke:#000000; stroke-linecap:butt; stroke-linejoin:round; stroke-width:2; stroke-opacity:0.1; fill:none\" points=\"\n",
       "  378.119,1423.18 378.119,123.472 \n",
       "  \"/>\n",
       "<polyline clip-path=\"url(#clip012)\" style=\"stroke:#000000; stroke-linecap:butt; stroke-linejoin:round; stroke-width:2; stroke-opacity:0.1; fill:none\" points=\"\n",
       "  832.112,1423.18 832.112,123.472 \n",
       "  \"/>\n",
       "<polyline clip-path=\"url(#clip012)\" style=\"stroke:#000000; stroke-linecap:butt; stroke-linejoin:round; stroke-width:2; stroke-opacity:0.1; fill:none\" points=\"\n",
       "  1286.1,1423.18 1286.1,123.472 \n",
       "  \"/>\n",
       "<polyline clip-path=\"url(#clip012)\" style=\"stroke:#000000; stroke-linecap:butt; stroke-linejoin:round; stroke-width:2; stroke-opacity:0.1; fill:none\" points=\"\n",
       "  1740.1,1423.18 1740.1,123.472 \n",
       "  \"/>\n",
       "<polyline clip-path=\"url(#clip012)\" style=\"stroke:#000000; stroke-linecap:butt; stroke-linejoin:round; stroke-width:2; stroke-opacity:0.1; fill:none\" points=\"\n",
       "  2194.09,1423.18 2194.09,123.472 \n",
       "  \"/>\n",
       "<polyline clip-path=\"url(#clip010)\" style=\"stroke:#000000; stroke-linecap:butt; stroke-linejoin:round; stroke-width:4; stroke-opacity:1; fill:none\" points=\"\n",
       "  219.38,1423.18 2352.76,1423.18 \n",
       "  \"/>\n",
       "<polyline clip-path=\"url(#clip010)\" style=\"stroke:#000000; stroke-linecap:butt; stroke-linejoin:round; stroke-width:4; stroke-opacity:1; fill:none\" points=\"\n",
       "  378.119,1423.18 378.119,1407.58 \n",
       "  \"/>\n",
       "<polyline clip-path=\"url(#clip010)\" style=\"stroke:#000000; stroke-linecap:butt; stroke-linejoin:round; stroke-width:4; stroke-opacity:1; fill:none\" points=\"\n",
       "  832.112,1423.18 832.112,1407.58 \n",
       "  \"/>\n",
       "<polyline clip-path=\"url(#clip010)\" style=\"stroke:#000000; stroke-linecap:butt; stroke-linejoin:round; stroke-width:4; stroke-opacity:1; fill:none\" points=\"\n",
       "  1286.1,1423.18 1286.1,1407.58 \n",
       "  \"/>\n",
       "<polyline clip-path=\"url(#clip010)\" style=\"stroke:#000000; stroke-linecap:butt; stroke-linejoin:round; stroke-width:4; stroke-opacity:1; fill:none\" points=\"\n",
       "  1740.1,1423.18 1740.1,1407.58 \n",
       "  \"/>\n",
       "<polyline clip-path=\"url(#clip010)\" style=\"stroke:#000000; stroke-linecap:butt; stroke-linejoin:round; stroke-width:4; stroke-opacity:1; fill:none\" points=\"\n",
       "  2194.09,1423.18 2194.09,1407.58 \n",
       "  \"/>\n",
       "<path clip-path=\"url(#clip010)\" d=\"M330.191 1479.92 L337.83 1479.92 L337.83 1453.55 L329.52 1455.22 L329.52 1450.96 L337.784 1449.29 L342.46 1449.29 L342.46 1479.92 L350.098 1479.92 L350.098 1483.85 L330.191 1483.85 L330.191 1479.92 Z\" fill=\"#000000\" fill-rule=\"evenodd\" fill-opacity=\"1\" /><path clip-path=\"url(#clip010)\" d=\"M369.543 1452.37 Q365.932 1452.37 364.103 1455.94 Q362.297 1459.48 362.297 1466.61 Q362.297 1473.71 364.103 1477.28 Q365.932 1480.82 369.543 1480.82 Q373.177 1480.82 374.982 1477.28 Q376.811 1473.71 376.811 1466.61 Q376.811 1459.48 374.982 1455.94 Q373.177 1452.37 369.543 1452.37 M369.543 1448.67 Q375.353 1448.67 378.408 1453.27 Q381.487 1457.86 381.487 1466.61 Q381.487 1475.33 378.408 1479.94 Q375.353 1484.52 369.543 1484.52 Q363.733 1484.52 360.654 1479.94 Q357.598 1475.33 357.598 1466.61 Q357.598 1457.86 360.654 1453.27 Q363.733 1448.67 369.543 1448.67 Z\" fill=\"#000000\" fill-rule=\"evenodd\" fill-opacity=\"1\" /><path clip-path=\"url(#clip010)\" d=\"M389.705 1477.97 L394.589 1477.97 L394.589 1483.85 L389.705 1483.85 L389.705 1477.97 Z\" fill=\"#000000\" fill-rule=\"evenodd\" fill-opacity=\"1\" /><path clip-path=\"url(#clip010)\" d=\"M414.774 1452.37 Q411.163 1452.37 409.334 1455.94 Q407.529 1459.48 407.529 1466.61 Q407.529 1473.71 409.334 1477.28 Q411.163 1480.82 414.774 1480.82 Q418.408 1480.82 420.214 1477.28 Q422.042 1473.71 422.042 1466.61 Q422.042 1459.48 420.214 1455.94 Q418.408 1452.37 414.774 1452.37 M414.774 1448.67 Q420.584 1448.67 423.64 1453.27 Q426.718 1457.86 426.718 1466.61 Q426.718 1475.33 423.64 1479.94 Q420.584 1484.52 414.774 1484.52 Q408.964 1484.52 405.885 1479.94 Q402.83 1475.33 402.83 1466.61 Q402.83 1457.86 405.885 1453.27 Q408.964 1448.67 414.774 1448.67 Z\" fill=\"#000000\" fill-rule=\"evenodd\" fill-opacity=\"1\" /><path clip-path=\"url(#clip010)\" d=\"M784.681 1479.92 L792.32 1479.92 L792.32 1453.55 L784.01 1455.22 L784.01 1450.96 L792.274 1449.29 L796.95 1449.29 L796.95 1479.92 L804.589 1479.92 L804.589 1483.85 L784.681 1483.85 L784.681 1479.92 Z\" fill=\"#000000\" fill-rule=\"evenodd\" fill-opacity=\"1\" /><path clip-path=\"url(#clip010)\" d=\"M818.061 1479.92 L834.38 1479.92 L834.38 1483.85 L812.436 1483.85 L812.436 1479.92 Q815.098 1477.16 819.681 1472.53 Q824.288 1467.88 825.468 1466.54 Q827.713 1464.01 828.593 1462.28 Q829.496 1460.52 829.496 1458.83 Q829.496 1456.07 827.551 1454.34 Q825.63 1452.6 822.528 1452.6 Q820.329 1452.6 817.876 1453.37 Q815.445 1454.13 812.667 1455.68 L812.667 1450.96 Q815.491 1449.82 817.945 1449.25 Q820.399 1448.67 822.436 1448.67 Q827.806 1448.67 831.001 1451.35 Q834.195 1454.04 834.195 1458.53 Q834.195 1460.66 833.385 1462.58 Q832.598 1464.48 830.491 1467.07 Q829.913 1467.74 826.811 1470.96 Q823.709 1474.15 818.061 1479.92 Z\" fill=\"#000000\" fill-rule=\"evenodd\" fill-opacity=\"1\" /><path clip-path=\"url(#clip010)\" d=\"M844.195 1477.97 L849.079 1477.97 L849.079 1483.85 L844.195 1483.85 L844.195 1477.97 Z\" fill=\"#000000\" fill-rule=\"evenodd\" fill-opacity=\"1\" /><path clip-path=\"url(#clip010)\" d=\"M859.311 1449.29 L877.667 1449.29 L877.667 1453.23 L863.593 1453.23 L863.593 1461.7 Q864.611 1461.35 865.63 1461.19 Q866.648 1461 867.667 1461 Q873.454 1461 876.834 1464.18 Q880.213 1467.35 880.213 1472.76 Q880.213 1478.34 876.741 1481.44 Q873.269 1484.52 866.949 1484.52 Q864.773 1484.52 862.505 1484.15 Q860.26 1483.78 857.852 1483.04 L857.852 1478.34 Q859.936 1479.48 862.158 1480.03 Q864.38 1480.59 866.857 1480.59 Q870.861 1480.59 873.199 1478.48 Q875.537 1476.38 875.537 1472.76 Q875.537 1469.15 873.199 1467.05 Q870.861 1464.94 866.857 1464.94 Q864.982 1464.94 863.107 1465.36 Q861.255 1465.77 859.311 1466.65 L859.311 1449.29 Z\" fill=\"#000000\" fill-rule=\"evenodd\" fill-opacity=\"1\" /><path clip-path=\"url(#clip010)\" d=\"M1238.18 1479.92 L1245.82 1479.92 L1245.82 1453.55 L1237.5 1455.22 L1237.5 1450.96 L1245.77 1449.29 L1250.44 1449.29 L1250.44 1479.92 L1258.08 1479.92 L1258.08 1483.85 L1238.18 1483.85 L1238.18 1479.92 Z\" fill=\"#000000\" fill-rule=\"evenodd\" fill-opacity=\"1\" /><path clip-path=\"url(#clip010)\" d=\"M1267.57 1449.29 L1285.93 1449.29 L1285.93 1453.23 L1271.86 1453.23 L1271.86 1461.7 Q1272.88 1461.35 1273.89 1461.19 Q1274.91 1461 1275.93 1461 Q1281.72 1461 1285.1 1464.18 Q1288.48 1467.35 1288.48 1472.76 Q1288.48 1478.34 1285 1481.44 Q1281.53 1484.52 1275.21 1484.52 Q1273.04 1484.52 1270.77 1484.15 Q1268.52 1483.78 1266.12 1483.04 L1266.12 1478.34 Q1268.2 1479.48 1270.42 1480.03 Q1272.64 1480.59 1275.12 1480.59 Q1279.13 1480.59 1281.46 1478.48 Q1283.8 1476.38 1283.8 1472.76 Q1283.8 1469.15 1281.46 1467.05 Q1279.13 1464.94 1275.12 1464.94 Q1273.25 1464.94 1271.37 1465.36 Q1269.52 1465.77 1267.57 1466.65 L1267.57 1449.29 Z\" fill=\"#000000\" fill-rule=\"evenodd\" fill-opacity=\"1\" /><path clip-path=\"url(#clip010)\" d=\"M1297.69 1477.97 L1302.57 1477.97 L1302.57 1483.85 L1297.69 1483.85 L1297.69 1477.97 Z\" fill=\"#000000\" fill-rule=\"evenodd\" fill-opacity=\"1\" /><path clip-path=\"url(#clip010)\" d=\"M1322.76 1452.37 Q1319.15 1452.37 1317.32 1455.94 Q1315.51 1459.48 1315.51 1466.61 Q1315.51 1473.71 1317.32 1477.28 Q1319.15 1480.82 1322.76 1480.82 Q1326.39 1480.82 1328.2 1477.28 Q1330.03 1473.71 1330.03 1466.61 Q1330.03 1459.48 1328.2 1455.94 Q1326.39 1452.37 1322.76 1452.37 M1322.76 1448.67 Q1328.57 1448.67 1331.62 1453.27 Q1334.7 1457.86 1334.7 1466.61 Q1334.7 1475.33 1331.62 1479.94 Q1328.57 1484.52 1322.76 1484.52 Q1316.95 1484.52 1313.87 1479.94 Q1310.81 1475.33 1310.81 1466.61 Q1310.81 1457.86 1313.87 1453.27 Q1316.95 1448.67 1322.76 1448.67 Z\" fill=\"#000000\" fill-rule=\"evenodd\" fill-opacity=\"1\" /><path clip-path=\"url(#clip010)\" d=\"M1692.67 1479.92 L1700.31 1479.92 L1700.31 1453.55 L1692 1455.22 L1692 1450.96 L1700.26 1449.29 L1704.93 1449.29 L1704.93 1479.92 L1712.57 1479.92 L1712.57 1483.85 L1692.67 1483.85 L1692.67 1479.92 Z\" fill=\"#000000\" fill-rule=\"evenodd\" fill-opacity=\"1\" /><path clip-path=\"url(#clip010)\" d=\"M1720.84 1449.29 L1743.06 1449.29 L1743.06 1451.28 L1730.51 1483.85 L1725.63 1483.85 L1737.43 1453.23 L1720.84 1453.23 L1720.84 1449.29 Z\" fill=\"#000000\" fill-rule=\"evenodd\" fill-opacity=\"1\" /><path clip-path=\"url(#clip010)\" d=\"M1752.18 1477.97 L1757.06 1477.97 L1757.06 1483.85 L1752.18 1483.85 L1752.18 1477.97 Z\" fill=\"#000000\" fill-rule=\"evenodd\" fill-opacity=\"1\" /><path clip-path=\"url(#clip010)\" d=\"M1767.3 1449.29 L1785.65 1449.29 L1785.65 1453.23 L1771.58 1453.23 L1771.58 1461.7 Q1772.6 1461.35 1773.62 1461.19 Q1774.63 1461 1775.65 1461 Q1781.44 1461 1784.82 1464.18 Q1788.2 1467.35 1788.2 1472.76 Q1788.2 1478.34 1784.73 1481.44 Q1781.25 1484.52 1774.93 1484.52 Q1772.76 1484.52 1770.49 1484.15 Q1768.24 1483.78 1765.84 1483.04 L1765.84 1478.34 Q1767.92 1479.48 1770.14 1480.03 Q1772.37 1480.59 1774.84 1480.59 Q1778.85 1480.59 1781.18 1478.48 Q1783.52 1476.38 1783.52 1472.76 Q1783.52 1469.15 1781.18 1467.05 Q1778.85 1464.94 1774.84 1464.94 Q1772.97 1464.94 1771.09 1465.36 Q1769.24 1465.77 1767.3 1466.65 L1767.3 1449.29 Z\" fill=\"#000000\" fill-rule=\"evenodd\" fill-opacity=\"1\" /><path clip-path=\"url(#clip010)\" d=\"M2150.25 1479.92 L2166.57 1479.92 L2166.57 1483.85 L2144.62 1483.85 L2144.62 1479.92 Q2147.28 1477.16 2151.87 1472.53 Q2156.47 1467.88 2157.65 1466.54 Q2159.9 1464.01 2160.78 1462.28 Q2161.68 1460.52 2161.68 1458.83 Q2161.68 1456.07 2159.74 1454.34 Q2157.82 1452.6 2154.71 1452.6 Q2152.52 1452.6 2150.06 1453.37 Q2147.63 1454.13 2144.85 1455.68 L2144.85 1450.96 Q2147.68 1449.82 2150.13 1449.25 Q2152.58 1448.67 2154.62 1448.67 Q2159.99 1448.67 2163.19 1451.35 Q2166.38 1454.04 2166.38 1458.53 Q2166.38 1460.66 2165.57 1462.58 Q2164.78 1464.48 2162.68 1467.07 Q2162.1 1467.74 2159 1470.96 Q2155.9 1474.15 2150.25 1479.92 Z\" fill=\"#000000\" fill-rule=\"evenodd\" fill-opacity=\"1\" /><path clip-path=\"url(#clip010)\" d=\"M2186.38 1452.37 Q2182.77 1452.37 2180.94 1455.94 Q2179.14 1459.48 2179.14 1466.61 Q2179.14 1473.71 2180.94 1477.28 Q2182.77 1480.82 2186.38 1480.82 Q2190.02 1480.82 2191.82 1477.28 Q2193.65 1473.71 2193.65 1466.61 Q2193.65 1459.48 2191.82 1455.94 Q2190.02 1452.37 2186.38 1452.37 M2186.38 1448.67 Q2192.19 1448.67 2195.25 1453.27 Q2198.33 1457.86 2198.33 1466.61 Q2198.33 1475.33 2195.25 1479.94 Q2192.19 1484.52 2186.38 1484.52 Q2180.57 1484.52 2177.49 1479.94 Q2174.44 1475.33 2174.44 1466.61 Q2174.44 1457.86 2177.49 1453.27 Q2180.57 1448.67 2186.38 1448.67 Z\" fill=\"#000000\" fill-rule=\"evenodd\" fill-opacity=\"1\" /><path clip-path=\"url(#clip010)\" d=\"M2206.54 1477.97 L2211.43 1477.97 L2211.43 1483.85 L2206.54 1483.85 L2206.54 1477.97 Z\" fill=\"#000000\" fill-rule=\"evenodd\" fill-opacity=\"1\" /><path clip-path=\"url(#clip010)\" d=\"M2231.61 1452.37 Q2228 1452.37 2226.17 1455.94 Q2224.37 1459.48 2224.37 1466.61 Q2224.37 1473.71 2226.17 1477.28 Q2228 1480.82 2231.61 1480.82 Q2235.25 1480.82 2237.05 1477.28 Q2238.88 1473.71 2238.88 1466.61 Q2238.88 1459.48 2237.05 1455.94 Q2235.25 1452.37 2231.61 1452.37 M2231.61 1448.67 Q2237.42 1448.67 2240.48 1453.27 Q2243.56 1457.86 2243.56 1466.61 Q2243.56 1475.33 2240.48 1479.94 Q2237.42 1484.52 2231.61 1484.52 Q2225.8 1484.52 2222.72 1479.94 Q2219.67 1475.33 2219.67 1466.61 Q2219.67 1457.86 2222.72 1453.27 Q2225.8 1448.67 2231.61 1448.67 Z\" fill=\"#000000\" fill-rule=\"evenodd\" fill-opacity=\"1\" /><path clip-path=\"url(#clip010)\" d=\"M1118.9 1545.76 Q1120.97 1546.46 1122.91 1548.76 Q1124.89 1551.05 1126.86 1555.06 L1133.39 1568.04 L1126.48 1568.04 L1120.4 1555.85 Q1118.05 1551.08 1115.82 1549.52 Q1113.62 1547.96 1109.8 1547.96 L1102.8 1547.96 L1102.8 1568.04 L1096.37 1568.04 L1096.37 1520.52 L1110.88 1520.52 Q1119.03 1520.52 1123.04 1523.93 Q1127.05 1527.34 1127.05 1534.21 Q1127.05 1538.7 1124.95 1541.66 Q1122.88 1544.62 1118.9 1545.76 M1102.8 1525.81 L1102.8 1542.68 L1110.88 1542.68 Q1115.53 1542.68 1117.89 1540.54 Q1120.27 1538.38 1120.27 1534.21 Q1120.27 1530.04 1117.89 1527.94 Q1115.53 1525.81 1110.88 1525.81 L1102.8 1525.81 Z\" fill=\"#000000\" fill-rule=\"evenodd\" fill-opacity=\"1\" /><path clip-path=\"url(#clip010)\" d=\"M1156.18 1550.12 Q1149.08 1550.12 1146.34 1551.75 Q1143.6 1553.37 1143.6 1557.29 Q1143.6 1560.4 1145.64 1562.25 Q1147.71 1564.07 1151.24 1564.07 Q1156.11 1564.07 1159.04 1560.63 Q1162 1557.16 1162 1551.43 L1162 1550.12 L1156.18 1550.12 M1167.86 1547.71 L1167.86 1568.04 L1162 1568.04 L1162 1562.63 Q1160 1565.88 1157 1567.44 Q1154.01 1568.97 1149.68 1568.97 Q1144.21 1568.97 1140.96 1565.91 Q1137.75 1562.82 1137.75 1557.67 Q1137.75 1551.65 1141.76 1548.6 Q1145.8 1545.54 1153.79 1545.54 L1162 1545.54 L1162 1544.97 Q1162 1540.93 1159.33 1538.73 Q1156.69 1536.5 1151.88 1536.5 Q1148.82 1536.5 1145.93 1537.23 Q1143.03 1537.97 1140.36 1539.43 L1140.36 1534.02 Q1143.57 1532.78 1146.6 1532.17 Q1149.62 1531.54 1152.48 1531.54 Q1160.22 1531.54 1164.04 1535.55 Q1167.86 1539.56 1167.86 1547.71 Z\" fill=\"#000000\" fill-rule=\"evenodd\" fill-opacity=\"1\" /><path clip-path=\"url(#clip010)\" d=\"M1203.38 1537.81 L1203.38 1518.52 L1209.23 1518.52 L1209.23 1568.04 L1203.38 1568.04 L1203.38 1562.7 Q1201.53 1565.88 1198.7 1567.44 Q1195.9 1568.97 1191.95 1568.97 Q1185.49 1568.97 1181.42 1563.81 Q1177.37 1558.65 1177.37 1550.25 Q1177.37 1541.85 1181.42 1536.69 Q1185.49 1531.54 1191.95 1531.54 Q1195.9 1531.54 1198.7 1533.1 Q1201.53 1534.62 1203.38 1537.81 M1183.42 1550.25 Q1183.42 1556.71 1186.06 1560.4 Q1188.74 1564.07 1193.38 1564.07 Q1198.03 1564.07 1200.7 1560.4 Q1203.38 1556.71 1203.38 1550.25 Q1203.38 1543.79 1200.7 1540.13 Q1198.03 1536.44 1193.38 1536.44 Q1188.74 1536.44 1186.06 1540.13 Q1183.42 1543.79 1183.42 1550.25 Z\" fill=\"#000000\" fill-rule=\"evenodd\" fill-opacity=\"1\" /><path clip-path=\"url(#clip010)\" d=\"M1221.3 1532.4 L1227.15 1532.4 L1227.15 1568.04 L1221.3 1568.04 L1221.3 1532.4 M1221.3 1518.52 L1227.15 1518.52 L1227.15 1525.93 L1221.3 1525.93 L1221.3 1518.52 Z\" fill=\"#000000\" fill-rule=\"evenodd\" fill-opacity=\"1\" /><path clip-path=\"url(#clip010)\" d=\"M1238.8 1553.98 L1238.8 1532.4 L1244.66 1532.4 L1244.66 1553.75 Q1244.66 1558.81 1246.63 1561.36 Q1248.61 1563.87 1252.55 1563.87 Q1257.3 1563.87 1260.03 1560.85 Q1262.8 1557.83 1262.8 1552.61 L1262.8 1532.4 L1268.66 1532.4 L1268.66 1568.04 L1262.8 1568.04 L1262.8 1562.57 Q1260.67 1565.82 1257.84 1567.41 Q1255.04 1568.97 1251.31 1568.97 Q1245.17 1568.97 1241.99 1565.15 Q1238.8 1561.33 1238.8 1553.98 M1253.54 1531.54 L1253.54 1531.54 Z\" fill=\"#000000\" fill-rule=\"evenodd\" fill-opacity=\"1\" /><path clip-path=\"url(#clip010)\" d=\"M1303.45 1533.45 L1303.45 1538.98 Q1300.96 1537.71 1298.29 1537.07 Q1295.62 1536.44 1292.75 1536.44 Q1288.39 1536.44 1286.2 1537.77 Q1284.03 1539.11 1284.03 1541.79 Q1284.03 1543.82 1285.59 1545 Q1287.15 1546.15 1291.86 1547.2 L1293.87 1547.64 Q1300.1 1548.98 1302.71 1551.43 Q1305.36 1553.85 1305.36 1558.21 Q1305.36 1563.17 1301.41 1566.07 Q1297.49 1568.97 1290.62 1568.97 Q1287.75 1568.97 1284.64 1568.39 Q1281.55 1567.85 1278.11 1566.74 L1278.11 1560.69 Q1281.36 1562.38 1284.51 1563.24 Q1287.66 1564.07 1290.75 1564.07 Q1294.88 1564.07 1297.11 1562.66 Q1299.34 1561.23 1299.34 1558.65 Q1299.34 1556.27 1297.72 1554.99 Q1296.13 1553.72 1290.68 1552.54 L1288.65 1552.07 Q1283.2 1550.92 1280.78 1548.56 Q1278.37 1546.18 1278.37 1542.04 Q1278.37 1537.01 1281.93 1534.27 Q1285.5 1531.54 1292.05 1531.54 Q1295.3 1531.54 1298.16 1532.01 Q1301.03 1532.49 1303.45 1533.45 Z\" fill=\"#000000\" fill-rule=\"evenodd\" fill-opacity=\"1\" /><path clip-path=\"url(#clip010)\" d=\"M1349.47 1518.58 Q1345.21 1525.9 1343.14 1533.06 Q1341.07 1540.23 1341.07 1547.58 Q1341.07 1554.93 1343.14 1562.16 Q1345.24 1569.35 1349.47 1576.64 L1344.38 1576.64 Q1339.6 1569.16 1337.22 1561.93 Q1334.86 1554.71 1334.86 1547.58 Q1334.86 1540.48 1337.22 1533.29 Q1339.57 1526.09 1344.38 1518.58 L1349.47 1518.58 Z\" fill=\"#000000\" fill-rule=\"evenodd\" fill-opacity=\"1\" /><path clip-path=\"url(#clip010)\" d=\"M1360.61 1518.52 L1366.5 1518.52 L1366.5 1547.77 L1383.97 1532.4 L1391.45 1532.4 L1372.55 1549.07 L1392.25 1568.04 L1384.61 1568.04 L1366.5 1550.63 L1366.5 1568.04 L1360.61 1568.04 L1360.61 1518.52 Z\" fill=\"#000000\" fill-rule=\"evenodd\" fill-opacity=\"1\" /><path clip-path=\"url(#clip010)\" d=\"M1426.34 1539.24 Q1428.53 1535.29 1431.59 1533.41 Q1434.64 1531.54 1438.78 1531.54 Q1444.35 1531.54 1447.38 1535.45 Q1450.4 1539.33 1450.4 1546.53 L1450.4 1568.04 L1444.51 1568.04 L1444.51 1546.72 Q1444.51 1541.59 1442.7 1539.11 Q1440.88 1536.63 1437.16 1536.63 Q1432.61 1536.63 1429.96 1539.65 Q1427.32 1542.68 1427.32 1547.9 L1427.32 1568.04 L1421.43 1568.04 L1421.43 1546.72 Q1421.43 1541.56 1419.62 1539.11 Q1417.81 1536.63 1414.02 1536.63 Q1409.53 1536.63 1406.89 1539.68 Q1404.25 1542.71 1404.25 1547.9 L1404.25 1568.04 L1398.36 1568.04 L1398.36 1532.4 L1404.25 1532.4 L1404.25 1537.93 Q1406.25 1534.66 1409.05 1533.1 Q1411.85 1531.54 1415.71 1531.54 Q1419.59 1531.54 1422.29 1533.51 Q1425.03 1535.48 1426.34 1539.24 Z\" fill=\"#000000\" fill-rule=\"evenodd\" fill-opacity=\"1\" /><path clip-path=\"url(#clip010)\" d=\"M1461.16 1518.58 L1466.25 1518.58 Q1471.02 1526.09 1473.38 1533.29 Q1475.77 1540.48 1475.77 1547.58 Q1475.77 1554.71 1473.38 1561.93 Q1471.02 1569.16 1466.25 1576.64 L1461.16 1576.64 Q1465.39 1569.35 1467.46 1562.16 Q1469.56 1554.93 1469.56 1547.58 Q1469.56 1540.23 1467.46 1533.06 Q1465.39 1525.9 1461.16 1518.58 Z\" fill=\"#000000\" fill-rule=\"evenodd\" fill-opacity=\"1\" /><polyline clip-path=\"url(#clip012)\" style=\"stroke:#000000; stroke-linecap:butt; stroke-linejoin:round; stroke-width:2; stroke-opacity:0.1; fill:none\" points=\"\n",
       "  219.38,1405.47 2352.76,1405.47 \n",
       "  \"/>\n",
       "<polyline clip-path=\"url(#clip012)\" style=\"stroke:#000000; stroke-linecap:butt; stroke-linejoin:round; stroke-width:2; stroke-opacity:0.1; fill:none\" points=\"\n",
       "  219.38,1124.11 2352.76,1124.11 \n",
       "  \"/>\n",
       "<polyline clip-path=\"url(#clip012)\" style=\"stroke:#000000; stroke-linecap:butt; stroke-linejoin:round; stroke-width:2; stroke-opacity:0.1; fill:none\" points=\"\n",
       "  219.38,842.738 2352.76,842.738 \n",
       "  \"/>\n",
       "<polyline clip-path=\"url(#clip012)\" style=\"stroke:#000000; stroke-linecap:butt; stroke-linejoin:round; stroke-width:2; stroke-opacity:0.1; fill:none\" points=\"\n",
       "  219.38,561.37 2352.76,561.37 \n",
       "  \"/>\n",
       "<polyline clip-path=\"url(#clip012)\" style=\"stroke:#000000; stroke-linecap:butt; stroke-linejoin:round; stroke-width:2; stroke-opacity:0.1; fill:none\" points=\"\n",
       "  219.38,280.003 2352.76,280.003 \n",
       "  \"/>\n",
       "<polyline clip-path=\"url(#clip010)\" style=\"stroke:#000000; stroke-linecap:butt; stroke-linejoin:round; stroke-width:4; stroke-opacity:1; fill:none\" points=\"\n",
       "  219.38,1423.18 219.38,123.472 \n",
       "  \"/>\n",
       "<polyline clip-path=\"url(#clip010)\" style=\"stroke:#000000; stroke-linecap:butt; stroke-linejoin:round; stroke-width:4; stroke-opacity:1; fill:none\" points=\"\n",
       "  219.38,1405.47 244.981,1405.47 \n",
       "  \"/>\n",
       "<polyline clip-path=\"url(#clip010)\" style=\"stroke:#000000; stroke-linecap:butt; stroke-linejoin:round; stroke-width:4; stroke-opacity:1; fill:none\" points=\"\n",
       "  219.38,1124.11 244.981,1124.11 \n",
       "  \"/>\n",
       "<polyline clip-path=\"url(#clip010)\" style=\"stroke:#000000; stroke-linecap:butt; stroke-linejoin:round; stroke-width:4; stroke-opacity:1; fill:none\" points=\"\n",
       "  219.38,842.738 244.981,842.738 \n",
       "  \"/>\n",
       "<polyline clip-path=\"url(#clip010)\" style=\"stroke:#000000; stroke-linecap:butt; stroke-linejoin:round; stroke-width:4; stroke-opacity:1; fill:none\" points=\"\n",
       "  219.38,561.37 244.981,561.37 \n",
       "  \"/>\n",
       "<polyline clip-path=\"url(#clip010)\" style=\"stroke:#000000; stroke-linecap:butt; stroke-linejoin:round; stroke-width:4; stroke-opacity:1; fill:none\" points=\"\n",
       "  219.38,280.003 244.981,280.003 \n",
       "  \"/>\n",
       "<path clip-path=\"url(#clip010)\" d=\"M126.205 1391.27 Q122.593 1391.27 120.765 1394.84 Q118.959 1398.38 118.959 1405.51 Q118.959 1412.61 120.765 1416.18 Q122.593 1419.72 126.205 1419.72 Q129.839 1419.72 131.644 1416.18 Q133.473 1412.61 133.473 1405.51 Q133.473 1398.38 131.644 1394.84 Q129.839 1391.27 126.205 1391.27 M126.205 1387.57 Q132.015 1387.57 135.07 1392.17 Q138.149 1396.76 138.149 1405.51 Q138.149 1414.23 135.07 1418.84 Q132.015 1423.42 126.205 1423.42 Q120.394 1423.42 117.316 1418.84 Q114.26 1414.23 114.26 1405.51 Q114.26 1396.76 117.316 1392.17 Q120.394 1387.57 126.205 1387.57 Z\" fill=\"#000000\" fill-rule=\"evenodd\" fill-opacity=\"1\" /><path clip-path=\"url(#clip010)\" d=\"M146.366 1416.87 L151.251 1416.87 L151.251 1422.75 L146.366 1422.75 L146.366 1416.87 Z\" fill=\"#000000\" fill-rule=\"evenodd\" fill-opacity=\"1\" /><path clip-path=\"url(#clip010)\" d=\"M171.436 1391.27 Q167.825 1391.27 165.996 1394.84 Q164.19 1398.38 164.19 1405.51 Q164.19 1412.61 165.996 1416.18 Q167.825 1419.72 171.436 1419.72 Q175.07 1419.72 176.876 1416.18 Q178.704 1412.61 178.704 1405.51 Q178.704 1398.38 176.876 1394.84 Q175.07 1391.27 171.436 1391.27 M171.436 1387.57 Q177.246 1387.57 180.301 1392.17 Q183.38 1396.76 183.38 1405.51 Q183.38 1414.23 180.301 1418.84 Q177.246 1423.42 171.436 1423.42 Q165.626 1423.42 162.547 1418.84 Q159.491 1414.23 159.491 1405.51 Q159.491 1396.76 162.547 1392.17 Q165.626 1387.57 171.436 1387.57 Z\" fill=\"#000000\" fill-rule=\"evenodd\" fill-opacity=\"1\" /><path clip-path=\"url(#clip010)\" d=\"M127.2 1109.9 Q123.589 1109.9 121.76 1113.47 Q119.955 1117.01 119.955 1124.14 Q119.955 1131.25 121.76 1134.81 Q123.589 1138.35 127.2 1138.35 Q130.834 1138.35 132.64 1134.81 Q134.468 1131.25 134.468 1124.14 Q134.468 1117.01 132.64 1113.47 Q130.834 1109.9 127.2 1109.9 M127.2 1106.2 Q133.01 1106.2 136.066 1110.81 Q139.144 1115.39 139.144 1124.14 Q139.144 1132.87 136.066 1137.47 Q133.01 1142.06 127.2 1142.06 Q121.39 1142.06 118.311 1137.47 Q115.256 1132.87 115.256 1124.14 Q115.256 1115.39 118.311 1110.81 Q121.39 1106.2 127.2 1106.2 Z\" fill=\"#000000\" fill-rule=\"evenodd\" fill-opacity=\"1\" /><path clip-path=\"url(#clip010)\" d=\"M147.362 1135.51 L152.246 1135.51 L152.246 1141.39 L147.362 1141.39 L147.362 1135.51 Z\" fill=\"#000000\" fill-rule=\"evenodd\" fill-opacity=\"1\" /><path clip-path=\"url(#clip010)\" d=\"M162.477 1106.83 L180.834 1106.83 L180.834 1110.76 L166.76 1110.76 L166.76 1119.23 Q167.778 1118.89 168.797 1118.72 Q169.815 1118.54 170.834 1118.54 Q176.621 1118.54 180.001 1121.71 Q183.38 1124.88 183.38 1130.3 Q183.38 1135.88 179.908 1138.98 Q176.436 1142.06 170.116 1142.06 Q167.94 1142.06 165.672 1141.69 Q163.427 1141.32 161.019 1140.58 L161.019 1135.88 Q163.102 1137.01 165.325 1137.57 Q167.547 1138.12 170.024 1138.12 Q174.028 1138.12 176.366 1136.02 Q178.704 1133.91 178.704 1130.3 Q178.704 1126.69 176.366 1124.58 Q174.028 1122.47 170.024 1122.47 Q168.149 1122.47 166.274 1122.89 Q164.422 1123.31 162.477 1124.19 L162.477 1106.83 Z\" fill=\"#000000\" fill-rule=\"evenodd\" fill-opacity=\"1\" /><path clip-path=\"url(#clip010)\" d=\"M117.015 856.083 L124.654 856.083 L124.654 829.717 L116.343 831.384 L116.343 827.125 L124.607 825.458 L129.283 825.458 L129.283 856.083 L136.922 856.083 L136.922 860.018 L117.015 860.018 L117.015 856.083 Z\" fill=\"#000000\" fill-rule=\"evenodd\" fill-opacity=\"1\" /><path clip-path=\"url(#clip010)\" d=\"M146.366 854.138 L151.251 854.138 L151.251 860.018 L146.366 860.018 L146.366 854.138 Z\" fill=\"#000000\" fill-rule=\"evenodd\" fill-opacity=\"1\" /><path clip-path=\"url(#clip010)\" d=\"M171.436 828.537 Q167.825 828.537 165.996 832.101 Q164.19 835.643 164.19 842.773 Q164.19 849.879 165.996 853.444 Q167.825 856.986 171.436 856.986 Q175.07 856.986 176.876 853.444 Q178.704 849.879 178.704 842.773 Q178.704 835.643 176.876 832.101 Q175.07 828.537 171.436 828.537 M171.436 824.833 Q177.246 824.833 180.301 829.439 Q183.38 834.023 183.38 842.773 Q183.38 851.499 180.301 856.106 Q177.246 860.689 171.436 860.689 Q165.626 860.689 162.547 856.106 Q159.491 851.499 159.491 842.773 Q159.491 834.023 162.547 829.439 Q165.626 824.833 171.436 824.833 Z\" fill=\"#000000\" fill-rule=\"evenodd\" fill-opacity=\"1\" /><path clip-path=\"url(#clip010)\" d=\"M118.01 574.715 L125.649 574.715 L125.649 548.349 L117.339 550.016 L117.339 545.757 L125.603 544.09 L130.279 544.09 L130.279 574.715 L137.917 574.715 L137.917 578.65 L118.01 578.65 L118.01 574.715 Z\" fill=\"#000000\" fill-rule=\"evenodd\" fill-opacity=\"1\" /><path clip-path=\"url(#clip010)\" d=\"M147.362 572.771 L152.246 572.771 L152.246 578.65 L147.362 578.65 L147.362 572.771 Z\" fill=\"#000000\" fill-rule=\"evenodd\" fill-opacity=\"1\" /><path clip-path=\"url(#clip010)\" d=\"M162.477 544.09 L180.834 544.09 L180.834 548.025 L166.76 548.025 L166.76 556.498 Q167.778 556.15 168.797 555.988 Q169.815 555.803 170.834 555.803 Q176.621 555.803 180.001 558.974 Q183.38 562.146 183.38 567.562 Q183.38 573.141 179.908 576.243 Q176.436 579.322 170.116 579.322 Q167.94 579.322 165.672 578.951 Q163.427 578.581 161.019 577.84 L161.019 573.141 Q163.102 574.275 165.325 574.831 Q167.547 575.386 170.024 575.386 Q174.028 575.386 176.366 573.28 Q178.704 571.173 178.704 567.562 Q178.704 563.951 176.366 561.845 Q174.028 559.738 170.024 559.738 Q168.149 559.738 166.274 560.155 Q164.422 560.572 162.477 561.451 L162.477 544.09 Z\" fill=\"#000000\" fill-rule=\"evenodd\" fill-opacity=\"1\" /><path clip-path=\"url(#clip010)\" d=\"M120.232 293.347 L136.552 293.347 L136.552 297.283 L114.607 297.283 L114.607 293.347 Q117.269 290.593 121.853 285.963 Q126.459 281.31 127.64 279.968 Q129.885 277.445 130.765 275.709 Q131.667 273.949 131.667 272.26 Q131.667 269.505 129.723 267.769 Q127.802 266.033 124.7 266.033 Q122.501 266.033 120.047 266.797 Q117.617 267.561 114.839 269.111 L114.839 264.389 Q117.663 263.255 120.117 262.676 Q122.57 262.098 124.607 262.098 Q129.978 262.098 133.172 264.783 Q136.367 267.468 136.367 271.959 Q136.367 274.088 135.556 276.01 Q134.769 277.908 132.663 280.5 Q132.084 281.172 128.982 284.389 Q125.88 287.584 120.232 293.347 Z\" fill=\"#000000\" fill-rule=\"evenodd\" fill-opacity=\"1\" /><path clip-path=\"url(#clip010)\" d=\"M146.366 291.403 L151.251 291.403 L151.251 297.283 L146.366 297.283 L146.366 291.403 Z\" fill=\"#000000\" fill-rule=\"evenodd\" fill-opacity=\"1\" /><path clip-path=\"url(#clip010)\" d=\"M171.436 265.801 Q167.825 265.801 165.996 269.366 Q164.19 272.908 164.19 280.037 Q164.19 287.144 165.996 290.709 Q167.825 294.25 171.436 294.25 Q175.07 294.25 176.876 290.709 Q178.704 287.144 178.704 280.037 Q178.704 272.908 176.876 269.366 Q175.07 265.801 171.436 265.801 M171.436 262.098 Q177.246 262.098 180.301 266.704 Q183.38 271.287 183.38 280.037 Q183.38 288.764 180.301 293.371 Q177.246 297.954 171.436 297.954 Q165.626 297.954 162.547 293.371 Q159.491 288.764 159.491 280.037 Q159.491 271.287 162.547 266.704 Q165.626 262.098 171.436 262.098 Z\" fill=\"#000000\" fill-rule=\"evenodd\" fill-opacity=\"1\" /><path clip-path=\"url(#clip010)\" d=\"M16.4842 940.601 L16.4842 931.02 L48.8219 918.894 L16.4842 906.703 L16.4842 897.123 L64.0042 897.123 L64.0042 903.393 L22.277 903.393 L54.8694 915.647 L54.8694 922.108 L22.277 934.362 L64.0042 934.362 L64.0042 940.601 L16.4842 940.601 Z\" fill=\"#000000\" fill-rule=\"evenodd\" fill-opacity=\"1\" /><path clip-path=\"url(#clip010)\" d=\"M46.0847 868.414 Q46.0847 875.511 47.7079 878.249 Q49.3312 880.986 53.2461 880.986 Q56.3653 880.986 58.2114 878.949 Q60.0256 876.88 60.0256 873.347 Q60.0256 868.477 56.5881 865.549 Q53.1188 862.589 47.3897 862.589 L46.0847 862.589 L46.0847 868.414 M43.6657 856.733 L64.0042 856.733 L64.0042 862.589 L58.5933 862.589 Q61.8398 864.594 63.3994 867.586 Q64.9272 870.578 64.9272 874.907 Q64.9272 880.381 61.8716 883.628 Q58.7843 886.842 53.6281 886.842 Q47.6125 886.842 44.5569 882.832 Q41.5014 878.79 41.5014 870.801 L41.5014 862.589 L40.9285 862.589 Q36.8862 862.589 34.6901 865.263 Q32.4621 867.904 32.4621 872.711 Q32.4621 875.766 33.1941 878.663 Q33.9262 881.559 35.3903 884.233 L29.9795 884.233 Q28.7381 881.018 28.1334 877.994 Q27.4968 874.97 27.4968 872.106 Q27.4968 864.372 31.5072 860.552 Q35.5176 856.733 43.6657 856.733 Z\" fill=\"#000000\" fill-rule=\"evenodd\" fill-opacity=\"1\" /><path clip-path=\"url(#clip010)\" d=\"M29.4065 821.944 L34.9447 821.944 Q33.6716 824.427 33.035 827.1 Q32.3984 829.774 32.3984 832.638 Q32.3984 836.999 33.7352 839.195 Q35.072 841.359 37.7456 841.359 Q39.7826 841.359 40.9603 839.8 Q42.1061 838.24 43.1565 833.53 L43.6021 831.524 Q44.9389 825.286 47.3897 822.676 Q49.8086 820.034 54.1691 820.034 Q59.1344 820.034 62.0308 823.981 Q64.9272 827.896 64.9272 834.771 Q64.9272 837.636 64.3543 840.755 Q63.8132 843.842 62.6992 847.28 L56.6518 847.28 Q58.3387 844.033 59.198 840.882 Q60.0256 837.731 60.0256 834.644 Q60.0256 830.506 58.6251 828.278 Q57.1929 826.05 54.6147 826.05 Q52.2276 826.05 50.9545 827.673 Q49.6813 829.265 48.5037 834.707 L48.0262 836.744 Q46.8804 842.187 44.5251 844.606 Q42.138 847.025 38.0002 847.025 Q32.9713 847.025 30.2341 843.46 Q27.4968 839.895 27.4968 833.339 Q27.4968 830.092 27.9743 827.228 Q28.4517 824.363 29.4065 821.944 Z\" fill=\"#000000\" fill-rule=\"evenodd\" fill-opacity=\"1\" /><path clip-path=\"url(#clip010)\" d=\"M29.4065 787.983 L34.9447 787.983 Q33.6716 790.466 33.035 793.139 Q32.3984 795.813 32.3984 798.677 Q32.3984 803.038 33.7352 805.234 Q35.072 807.398 37.7456 807.398 Q39.7826 807.398 40.9603 805.839 Q42.1061 804.279 43.1565 799.569 L43.6021 797.563 Q44.9389 791.325 47.3897 788.715 Q49.8086 786.073 54.1691 786.073 Q59.1344 786.073 62.0308 790.02 Q64.9272 793.935 64.9272 800.81 Q64.9272 803.674 64.3543 806.794 Q63.8132 809.881 62.6992 813.319 L56.6518 813.319 Q58.3387 810.072 59.198 806.921 Q60.0256 803.77 60.0256 800.683 Q60.0256 796.545 58.6251 794.317 Q57.1929 792.089 54.6147 792.089 Q52.2276 792.089 50.9545 793.712 Q49.6813 795.304 48.5037 800.746 L48.0262 802.783 Q46.8804 808.226 44.5251 810.645 Q42.138 813.064 38.0002 813.064 Q32.9713 813.064 30.2341 809.499 Q27.4968 805.934 27.4968 799.378 Q27.4968 796.131 27.9743 793.267 Q28.4517 790.402 29.4065 787.983 Z\" fill=\"#000000\" fill-rule=\"evenodd\" fill-opacity=\"1\" /><path clip-path=\"url(#clip010)\" d=\"M14.5426 741.959 Q21.8632 746.224 29.0246 748.293 Q36.186 750.362 43.5384 750.362 Q50.8908 750.362 58.1159 748.293 Q65.3091 746.192 72.5979 741.959 L72.5979 747.052 Q65.1182 751.826 57.8931 754.213 Q50.668 756.568 43.5384 756.568 Q36.4406 756.568 29.2474 754.213 Q22.0542 751.858 14.5426 747.052 L14.5426 741.959 Z\" fill=\"#000000\" fill-rule=\"evenodd\" fill-opacity=\"1\" /><path clip-path=\"url(#clip010)\" d=\"M16.4842 730.342 L16.4842 720.761 L48.8219 708.634 L16.4842 696.444 L16.4842 686.864 L64.0042 686.864 L64.0042 693.134 L22.277 693.134 L54.8694 705.388 L54.8694 711.849 L22.277 724.103 L64.0042 724.103 L64.0042 730.342 L16.4842 730.342 Z\" fill=\"#000000\" fill-rule=\"evenodd\" fill-opacity=\"1\" /><path clip-path=\"url(#clip010)\" d=\"M39.528 656.563 L39.528 649.815 L47.6125 649.815 L47.6125 656.563 L39.528 656.563 M28.1334 646.823 Q26.8921 649.784 26.8921 653.189 Q26.8921 656.595 28.1334 659.555 Q29.3747 662.483 31.7937 664.902 Q34.2445 667.353 37.1727 668.562 Q40.1009 669.772 43.5702 669.772 Q46.9441 669.772 49.8723 668.562 Q52.8005 667.353 55.2513 664.902 Q57.6703 662.483 58.9116 659.555 Q60.1529 656.595 60.1529 653.189 Q60.1529 649.784 58.9116 646.823 Q57.6703 643.895 55.2513 641.476 Q52.8005 639.025 49.8723 637.816 Q46.9441 636.607 43.5702 636.607 Q40.1009 636.607 37.1727 637.816 Q34.2445 639.025 31.7937 641.476 Q29.3747 643.895 28.1334 646.823 M23.7092 661.369 Q22.1178 657.582 22.1178 653.189 Q22.1178 648.797 23.7092 645.009 Q25.3007 641.222 28.4199 638.102 Q31.5709 634.951 35.3585 633.392 Q39.1142 631.832 43.5702 631.832 Q47.9307 631.832 51.7183 633.392 Q55.4741 634.951 58.6251 638.102 Q61.7443 641.222 63.3358 645.009 Q64.9272 648.797 64.9272 653.189 Q64.9272 657.582 63.3358 661.369 Q61.7443 665.157 58.6251 668.276 Q55.4741 671.427 51.7183 672.987 Q47.9307 674.546 43.5702 674.546 Q39.1142 674.546 35.3585 672.987 Q31.5709 671.427 28.4199 668.276 Q25.3007 665.157 23.7092 661.369 Z\" fill=\"#000000\" fill-rule=\"evenodd\" fill-opacity=\"1\" /><path clip-path=\"url(#clip010)\" d=\"M14.5426 620.66 L14.5426 615.568 Q22.0542 610.794 29.2474 608.438 Q36.4406 606.051 43.5384 606.051 Q50.668 606.051 57.8931 608.438 Q65.1182 610.794 72.5979 615.568 L72.5979 620.66 Q65.3091 616.427 58.1159 614.358 Q50.8908 612.258 43.5384 612.258 Q36.186 612.258 29.0246 614.358 Q21.8632 616.427 14.5426 620.66 Z\" fill=\"#000000\" fill-rule=\"evenodd\" fill-opacity=\"1\" /><path clip-path=\"url(#clip010)\" d=\"M688.377 12.096 L699.396 12.096 L726.213 62.6918 L726.213 12.096 L734.153 12.096 L734.153 72.576 L723.134 72.576 L696.317 21.9802 L696.317 72.576 L688.377 72.576 L688.377 12.096 Z\" fill=\"#000000\" fill-rule=\"evenodd\" fill-opacity=\"1\" /><path clip-path=\"url(#clip010)\" d=\"M788.921 48.0275 L788.921 51.6733 L754.65 51.6733 Q755.136 59.3701 759.268 63.421 Q763.441 67.4314 770.854 67.4314 Q775.148 67.4314 779.158 66.3781 Q783.209 65.3249 787.179 63.2184 L787.179 70.267 Q783.169 71.9684 778.956 72.8596 Q774.743 73.7508 770.408 73.7508 Q759.552 73.7508 753.192 67.4314 Q746.872 61.1119 746.872 50.3365 Q746.872 39.1965 752.868 32.6746 Q758.904 26.1121 769.112 26.1121 Q778.267 26.1121 783.574 32.0264 Q788.921 37.9003 788.921 48.0275 M781.467 45.84 Q781.386 39.7232 778.024 36.0774 Q774.702 32.4315 769.193 32.4315 Q762.955 32.4315 759.187 35.9558 Q755.46 39.4801 754.893 45.8805 L781.467 45.84 Z\" fill=\"#000000\" fill-rule=\"evenodd\" fill-opacity=\"1\" /><path clip-path=\"url(#clip010)\" d=\"M800.385 54.671 L800.385 27.2059 L807.839 27.2059 L807.839 54.3874 Q807.839 60.8284 810.35 64.0691 Q812.862 67.2693 817.885 67.2693 Q823.921 67.2693 827.404 63.421 Q830.929 59.5726 830.929 52.9291 L830.929 27.2059 L838.382 27.2059 L838.382 72.576 L830.929 72.576 L830.929 65.6084 Q828.215 69.7404 824.609 71.7658 Q821.044 73.7508 816.305 73.7508 Q808.487 73.7508 804.436 68.8897 Q800.385 64.0286 800.385 54.671 M819.141 26.1121 L819.141 26.1121 Z\" fill=\"#000000\" fill-rule=\"evenodd\" fill-opacity=\"1\" /><path clip-path=\"url(#clip010)\" d=\"M861.108 14.324 L861.108 27.2059 L876.461 27.2059 L876.461 32.9987 L861.108 32.9987 L861.108 57.6282 Q861.108 63.1779 862.607 64.7578 Q864.146 66.3376 868.805 66.3376 L876.461 66.3376 L876.461 72.576 L868.805 72.576 Q860.176 72.576 856.895 69.3758 Q853.614 66.1351 853.614 57.6282 L853.614 32.9987 L848.145 32.9987 L848.145 27.2059 L853.614 27.2059 L853.614 14.324 L861.108 14.324 Z\" fill=\"#000000\" fill-rule=\"evenodd\" fill-opacity=\"1\" /><path clip-path=\"url(#clip010)\" d=\"M912.554 34.1734 Q911.299 33.4443 909.8 33.1202 Q908.341 32.7556 906.559 32.7556 Q900.24 32.7556 896.837 36.8875 Q893.475 40.9789 893.475 48.6757 L893.475 72.576 L885.98 72.576 L885.98 27.2059 L893.475 27.2059 L893.475 34.2544 Q895.824 30.1225 899.592 28.1376 Q903.359 26.1121 908.747 26.1121 Q909.516 26.1121 910.448 26.2337 Q911.38 26.3147 912.514 26.5172 L912.554 34.1734 Z\" fill=\"#000000\" fill-rule=\"evenodd\" fill-opacity=\"1\" /><path clip-path=\"url(#clip010)\" d=\"M936.131 32.4315 Q930.135 32.4315 926.652 37.1306 Q923.168 41.7891 923.168 49.9314 Q923.168 58.0738 926.611 62.7728 Q930.095 67.4314 936.131 67.4314 Q942.085 67.4314 945.569 62.7323 Q949.053 58.0333 949.053 49.9314 Q949.053 41.8701 945.569 37.1711 Q942.085 32.4315 936.131 32.4315 M936.131 26.1121 Q945.853 26.1121 951.403 32.4315 Q956.952 38.7509 956.952 49.9314 Q956.952 61.0714 951.403 67.4314 Q945.853 73.7508 936.131 73.7508 Q926.368 73.7508 920.818 67.4314 Q915.309 61.0714 915.309 49.9314 Q915.309 38.7509 920.818 32.4315 Q926.368 26.1121 936.131 26.1121 Z\" fill=\"#000000\" fill-rule=\"evenodd\" fill-opacity=\"1\" /><path clip-path=\"url(#clip010)\" d=\"M1007.02 45.1919 L1007.02 72.576 L999.568 72.576 L999.568 45.4349 Q999.568 38.994 997.056 35.7938 Q994.545 32.5936 989.522 32.5936 Q983.486 32.5936 980.002 36.4419 Q976.518 40.2903 976.518 46.9338 L976.518 72.576 L969.024 72.576 L969.024 27.2059 L976.518 27.2059 L976.518 34.2544 Q979.192 30.163 982.797 28.1376 Q986.443 26.1121 991.182 26.1121 Q999.001 26.1121 1003.01 30.9732 Q1007.02 35.7938 1007.02 45.1919 Z\" fill=\"#000000\" fill-rule=\"evenodd\" fill-opacity=\"1\" /><path clip-path=\"url(#clip010)\" d=\"M1084.84 14.0809 L1084.84 22.0612 Q1080.18 19.8332 1076.05 18.7395 Q1071.92 17.6457 1068.07 17.6457 Q1061.38 17.6457 1057.74 20.2383 Q1054.13 22.8309 1054.13 27.611 Q1054.13 31.6214 1056.52 33.6873 Q1058.95 35.7128 1065.68 36.9686 L1070.62 37.9813 Q1079.78 39.7232 1084.11 44.1387 Q1088.49 48.5136 1088.49 55.8863 Q1088.49 64.6767 1082.57 69.2137 Q1076.7 73.7508 1065.31 73.7508 Q1061.02 73.7508 1056.16 72.7785 Q1051.34 71.8063 1046.15 69.9024 L1046.15 61.4765 Q1051.14 64.2716 1055.92 65.6895 Q1060.7 67.1073 1065.31 67.1073 Q1072.32 67.1073 1076.13 64.3527 Q1079.94 61.598 1079.94 56.4939 Q1079.94 52.0379 1077.18 49.5264 Q1074.47 47.0148 1068.23 45.759 L1063.25 44.7868 Q1054.09 42.9639 1050 39.075 Q1045.91 35.1862 1045.91 28.2591 Q1045.91 20.2383 1051.54 15.6203 Q1057.21 11.0023 1067.14 11.0023 Q1071.39 11.0023 1075.81 11.7719 Q1080.22 12.5416 1084.84 14.0809 Z\" fill=\"#000000\" fill-rule=\"evenodd\" fill-opacity=\"1\" /><path clip-path=\"url(#clip010)\" d=\"M1108.29 14.324 L1108.29 27.2059 L1123.65 27.2059 L1123.65 32.9987 L1108.29 32.9987 L1108.29 57.6282 Q1108.29 63.1779 1109.79 64.7578 Q1111.33 66.3376 1115.99 66.3376 L1123.65 66.3376 L1123.65 72.576 L1115.99 72.576 Q1107.36 72.576 1104.08 69.3758 Q1100.8 66.1351 1100.8 57.6282 L1100.8 32.9987 L1095.33 32.9987 L1095.33 27.2059 L1100.8 27.2059 L1100.8 14.324 L1108.29 14.324 Z\" fill=\"#000000\" fill-rule=\"evenodd\" fill-opacity=\"1\" /><path clip-path=\"url(#clip010)\" d=\"M1154.07 49.7694 Q1145.04 49.7694 1141.55 51.8354 Q1138.07 53.9013 1138.07 58.8839 Q1138.07 62.8538 1140.66 65.2034 Q1143.29 67.5124 1147.79 67.5124 Q1153.99 67.5124 1157.72 63.1374 Q1161.48 58.7219 1161.48 51.4303 L1161.48 49.7694 L1154.07 49.7694 M1168.94 46.6907 L1168.94 72.576 L1161.48 72.576 L1161.48 65.6895 Q1158.93 69.8214 1155.12 71.8063 Q1151.31 73.7508 1145.81 73.7508 Q1138.84 73.7508 1134.71 69.8619 Q1130.61 65.9325 1130.61 59.3701 Q1130.61 51.7138 1135.72 47.825 Q1140.86 43.9361 1151.03 43.9361 L1161.48 43.9361 L1161.48 43.2069 Q1161.48 38.0623 1158.08 35.2672 Q1154.72 32.4315 1148.6 32.4315 Q1144.71 32.4315 1141.03 33.3632 Q1137.34 34.295 1133.94 36.1584 L1133.94 29.2718 Q1138.03 27.692 1141.88 26.9223 Q1145.72 26.1121 1149.37 26.1121 Q1159.21 26.1121 1164.08 31.2163 Q1168.94 36.3204 1168.94 46.6907 Z\" fill=\"#000000\" fill-rule=\"evenodd\" fill-opacity=\"1\" /><path clip-path=\"url(#clip010)\" d=\"M1210.58 34.1734 Q1209.32 33.4443 1207.82 33.1202 Q1206.37 32.7556 1204.58 32.7556 Q1198.26 32.7556 1194.86 36.8875 Q1191.5 40.9789 1191.5 48.6757 L1191.5 72.576 L1184.01 72.576 L1184.01 27.2059 L1191.5 27.2059 L1191.5 34.2544 Q1193.85 30.1225 1197.62 28.1376 Q1201.38 26.1121 1206.77 26.1121 Q1207.54 26.1121 1208.47 26.2337 Q1209.4 26.3147 1210.54 26.5172 L1210.58 34.1734 Z\" fill=\"#000000\" fill-rule=\"evenodd\" fill-opacity=\"1\" /><path clip-path=\"url(#clip010)\" d=\"M1247.32 28.5427 L1247.32 35.5912 Q1244.16 33.9709 1240.76 33.1607 Q1237.36 32.3505 1233.71 32.3505 Q1228.16 32.3505 1225.37 34.0519 Q1222.61 35.7533 1222.61 39.156 Q1222.61 41.7486 1224.6 43.2475 Q1226.58 44.7058 1232.58 46.0426 L1235.13 46.6097 Q1243.07 48.3111 1246.39 51.4303 Q1249.75 54.509 1249.75 60.0587 Q1249.75 66.3781 1244.73 70.0644 Q1239.75 73.7508 1231 73.7508 Q1227.35 73.7508 1223.38 73.0216 Q1219.45 72.3329 1215.08 70.9151 L1215.08 63.2184 Q1219.21 65.3654 1223.22 66.4591 Q1227.23 67.5124 1231.16 67.5124 Q1236.42 67.5124 1239.26 65.73 Q1242.1 63.9071 1242.1 60.6258 Q1242.1 57.5877 1240.03 55.9673 Q1238 54.3469 1231.08 52.8481 L1228.48 52.2405 Q1221.56 50.7821 1218.48 47.7845 Q1215.4 44.7463 1215.4 39.4801 Q1215.4 33.0797 1219.94 29.5959 Q1224.47 26.1121 1232.82 26.1121 Q1236.95 26.1121 1240.6 26.7198 Q1244.24 27.3274 1247.32 28.5427 Z\" fill=\"#000000\" fill-rule=\"evenodd\" fill-opacity=\"1\" /><path clip-path=\"url(#clip010)\" d=\"M1288.32 12.096 L1296.5 12.096 L1296.5 37.6572 L1323.64 12.096 L1334.17 12.096 L1304.16 40.2903 L1336.32 72.576 L1325.54 72.576 L1296.5 43.45 L1296.5 72.576 L1288.32 72.576 L1288.32 12.096 Z\" fill=\"#000000\" fill-rule=\"evenodd\" fill-opacity=\"1\" /><path clip-path=\"url(#clip010)\" d=\"M1369.74 34.9026 L1421.67 34.9026 L1421.67 41.7081 L1369.74 41.7081 L1369.74 34.9026 M1369.74 51.4303 L1421.67 51.4303 L1421.67 58.3168 L1369.74 58.3168 L1369.74 51.4303 Z\" fill=\"#000000\" fill-rule=\"evenodd\" fill-opacity=\"1\" /><path clip-path=\"url(#clip010)\" d=\"M1467.12 65.6895 L1480.49 65.6895 L1480.49 19.5497 L1465.95 22.4663 L1465.95 15.0127 L1480.41 12.096 L1488.59 12.096 L1488.59 65.6895 L1501.96 65.6895 L1501.96 72.576 L1467.12 72.576 L1467.12 65.6895 Z\" fill=\"#000000\" fill-rule=\"evenodd\" fill-opacity=\"1\" /><path clip-path=\"url(#clip010)\" d=\"M1525.54 65.6895 L1554.1 65.6895 L1554.1 72.576 L1515.69 72.576 L1515.69 65.6895 Q1520.35 60.8689 1528.37 52.7671 Q1536.43 44.6248 1538.5 42.2752 Q1542.43 37.8598 1543.97 34.8216 Q1545.55 31.7429 1545.55 28.7857 Q1545.55 23.9651 1542.15 20.927 Q1538.78 17.8888 1533.36 17.8888 Q1529.51 17.8888 1525.21 19.2256 Q1520.96 20.5624 1516.1 23.2765 L1516.1 15.0127 Q1521.04 13.0277 1525.33 12.015 Q1529.63 11.0023 1533.19 11.0023 Q1542.59 11.0023 1548.18 15.7013 Q1553.77 20.4004 1553.77 28.2591 Q1553.77 31.9859 1552.35 35.3482 Q1550.98 38.6699 1547.29 43.2069 Q1546.28 44.3817 1540.85 50.0125 Q1535.42 55.6027 1525.54 65.6895 Z\" fill=\"#000000\" fill-rule=\"evenodd\" fill-opacity=\"1\" /><path clip-path=\"url(#clip010)\" d=\"M1596.06 39.9662 Q1601.94 41.222 1605.22 45.1919 Q1608.54 49.1618 1608.54 54.9951 Q1608.54 63.9476 1602.38 68.8492 Q1596.23 73.7508 1584.88 73.7508 Q1581.08 73.7508 1577.02 72.9811 Q1573.01 72.2519 1568.72 70.7531 L1568.72 62.8538 Q1572.12 64.8388 1576.17 65.8515 Q1580.22 66.8642 1584.64 66.8642 Q1592.34 66.8642 1596.35 63.826 Q1600.4 60.7879 1600.4 54.9951 Q1600.4 49.6479 1596.63 46.6502 Q1592.9 43.612 1586.22 43.612 L1579.17 43.612 L1579.17 36.8875 L1586.54 36.8875 Q1592.58 36.8875 1595.78 34.4975 Q1598.98 32.067 1598.98 27.5299 Q1598.98 22.8714 1595.66 20.4004 Q1592.38 17.8888 1586.22 17.8888 Q1582.86 17.8888 1579.01 18.618 Q1575.16 19.3471 1570.54 20.8865 L1570.54 13.5948 Q1575.2 12.2985 1579.25 11.6504 Q1583.34 11.0023 1586.95 11.0023 Q1596.27 11.0023 1601.69 15.2557 Q1607.12 19.4686 1607.12 26.6793 Q1607.12 31.7024 1604.25 35.1862 Q1601.37 38.6294 1596.06 39.9662 Z\" fill=\"#000000\" fill-rule=\"evenodd\" fill-opacity=\"1\" /><path clip-path=\"url(#clip010)\" d=\"M1624.91 62.2867 L1633.45 62.2867 L1633.45 69.2543 L1626.81 82.2172 L1621.58 82.2172 L1624.91 69.2543 L1624.91 62.2867 Z\" fill=\"#000000\" fill-rule=\"evenodd\" fill-opacity=\"1\" /><path clip-path=\"url(#clip010)\" d=\"M1682.55 34.3355 L1692.47 62.3677 L1706.65 27.2059 L1714.55 27.2059 L1696.2 72.576 L1696.2 89.8329 L1688.75 89.8329 L1688.75 72.576 L1676.84 38.7104 Q1675.06 33.6063 1671.21 33.6063 L1669.22 33.6063 L1669.22 27.2059 L1672.06 27.2059 Q1680.04 27.2059 1682.55 34.3355 Z\" fill=\"#000000\" fill-rule=\"evenodd\" fill-opacity=\"1\" /><path clip-path=\"url(#clip010)\" d=\"M1752.19 34.9026 L1804.12 34.9026 L1804.12 41.7081 L1752.19 41.7081 L1752.19 34.9026 M1752.19 51.4303 L1804.12 51.4303 L1804.12 58.3168 L1752.19 58.3168 L1752.19 51.4303 Z\" fill=\"#000000\" fill-rule=\"evenodd\" fill-opacity=\"1\" /><path clip-path=\"url(#clip010)\" d=\"M1855.2 65.6895 L1883.76 65.6895 L1883.76 72.576 L1845.36 72.576 L1845.36 65.6895 Q1850.01 60.8689 1858.04 52.7671 Q1866.1 44.6248 1868.16 42.2752 Q1872.09 37.8598 1873.63 34.8216 Q1875.21 31.7429 1875.21 28.7857 Q1875.21 23.9651 1871.81 20.927 Q1868.45 17.8888 1863.02 17.8888 Q1859.17 17.8888 1854.88 19.2256 Q1850.62 20.5624 1845.76 23.2765 L1845.76 15.0127 Q1850.7 13.0277 1855 12.015 Q1859.29 11.0023 1862.86 11.0023 Q1872.25 11.0023 1877.84 15.7013 Q1883.43 20.4004 1883.43 28.2591 Q1883.43 31.9859 1882.02 35.3482 Q1880.64 38.6699 1876.95 43.2069 Q1875.94 44.3817 1870.51 50.0125 Q1865.08 55.6027 1855.2 65.6895 Z\" fill=\"#000000\" fill-rule=\"evenodd\" fill-opacity=\"1\" /><polyline clip-path=\"url(#clip012)\" style=\"stroke:#009af9; stroke-linecap:butt; stroke-linejoin:round; stroke-width:8; stroke-opacity:1; fill:none\" points=\"\n",
       "  2292.38,1386.4 2190.92,1212.44 2097.29,1065.14 2010.62,939.847 1930.15,832.811 1855.26,741.029 1785.39,662.063 1720.04,593.923 1658.79,534.972 1601.28,483.856 \n",
       "  1547.16,439.45 1496.16,400.813 1448.03,367.153 1402.47,337.805 1359.35,312.201 1318.45,289.86 1279.61,270.371 1242.68,253.379 1207.52,238.581 1174.02,225.714 \n",
       "  1142.04,214.55 1111.52,204.892 1082.3,196.566 1054.36,189.422 1027.6,183.329 1001.97,178.17 977.315,173.842 953.67,170.257 930.948,167.334 909.096,165.002 \n",
       "  888.065,163.2 867.813,161.871 848.293,160.967 829.472,160.441 811.344,160.256 793.78,160.376 776.845,160.769 760.478,161.407 744.979,162.263 729.326,163.316 \n",
       "  714.514,164.545 700.16,165.93 686.253,167.455 672.773,169.105 659.702,170.867 647.02,172.727 634.6,174.675 622.837,176.699 611.164,178.792 599.857,180.945 \n",
       "  588.932,183.15 578.278,185.4 568.074,187.689 557.836,190.012 548.025,192.362 538.473,194.736 529.175,197.129 520.114,199.537 511.285,201.957 502.683,204.386 \n",
       "  494.295,206.82 486.168,209.257 478.138,211.694 470.355,214.13 462.76,216.563 455.345,218.99 448.108,221.41 441.038,223.821 434.135,226.222 427.387,228.613 \n",
       "  420.797,230.991 414.352,233.356 408.055,235.708 401.896,238.044 395.874,240.365 389.978,242.67 384.219,244.958 377.878,247.229 373.061,249.483 367.66,251.718 \n",
       "  362.369,253.935 357.192,256.134 352.137,258.314 347.153,260.475 342.289,262.617 337.707,264.739 332.847,266.842 328.269,268.926 323.877,270.99 319.38,273.034 \n",
       "  315.067,275.059 309.896,277.064 306.687,279.051 302.618,281.017 298.629,282.964 294.707,284.891 290.866,286.8 287.095,288.689 283.849,290.559 279.759,292.41 \n",
       "  \n",
       "  \"/>\n",
       "<polyline clip-path=\"url(#clip012)\" style=\"stroke:#000000; stroke-linecap:butt; stroke-linejoin:round; stroke-width:16; stroke-opacity:1; fill:none\" stroke-dasharray=\"64, 40\" points=\"\n",
       "  2205.6,1260.06 2204.16,1257.53 2202.38,1254.98 2201.09,1252.33 2199.67,1249.65 2197.52,1247.02 2195.95,1244.28 2194.31,1241.47 2193.12,1238.58 2191.36,1235.69 \n",
       "  2189.59,1232.77 2187.56,1229.84 2185.76,1226.82 2183.77,1223.79 2182.46,1220.61 2179.88,1217.54 2178.16,1214.29 2176.4,1211.02 2174.23,1207.72 2172.02,1204.41 \n",
       "  2170.24,1200.95 2167.88,1197.52 2165.77,1194.02 2163.65,1190.45 2161.14,1186.91 2159.05,1183.17 2156.61,1179.49 2154.91,1175.64 2151.93,1171.93 2149.36,1168.02 \n",
       "  2147.29,1164 2144.67,1160.03 2141.86,1156.03 2139.72,1151.84 2136.94,1147.7 2134.44,1143.44 2131.35,1139.28 2128.53,1134.93 2126.16,1130.43 2123,1126.05 \n",
       "  2120.38,1121.44 2117.18,1116.9 2114.46,1112.2 2111.43,1107.47 2108.37,1102.71 2105.05,1097.9 2101.69,1093.08 2098.93,1088.04 2095.74,1082.96 2092.1,1077.91 \n",
       "  2088.75,1072.74 2085.35,1067.54 2081.65,1062.35 2078.3,1056.88 2074.9,1051.43 2071.19,1045.96 2067.07,1040.64 2063.86,1034.8 2059.38,1029.29 2055.55,1023.56 \n",
       "  2051.71,1017.72 2047.81,1011.81 2043.93,1005.83 2040.01,999.799 2035.46,993.805 2031.29,987.61 2027.06,981.43 2022.53,975.197 2018.1,968.87 2013.18,962.591 \n",
       "  2009.04,956.009 2004.41,949.483 1999.52,942.951 1994.64,936.476 1990.16,929.526 1984.98,922.829 1979.84,916.14 1975.26,908.999 1969.54,902.262 1964.84,895.1 \n",
       "  1959.51,888.027 1953.71,881.056 1948.65,873.697 1943.15,866.497 1937.28,859.282 1932.13,851.735 1926.52,844.329 1920.28,837.054 1914.41,829.52 1908.59,821.847 \n",
       "  1902.92,814.106 1896.21,806.739 1889.96,799.037 1884.08,791.046 1877.42,783.553 1871.3,775.477 1864.47,767.66 1858.27,759.578 1851.67,751.588 1845.12,743.514 \n",
       "  1838.2,735.482 1830.76,727.691 1824.25,719.317 1816.77,711.598 1809.45,703.356 1802.3,695.053 1795.41,686.659 1787.76,678.662 1780.38,670.174 1772.55,662.149 \n",
       "  1765.1,653.709 1757.42,645.38 1749.79,636.986 1741.79,628.622 1733.87,620.315 1725.58,612.067 1717.12,603.986 1709.35,595.293 1700.99,587.043 1692.56,578.694 \n",
       "  1684.15,570.412 1675.48,562.229 1667.01,553.766 1658.44,545.485 1649.08,537.591 1640.27,529.22 1631.68,520.77 1622.61,512.553 1613.31,504.566 1604.1,496.444 \n",
       "  1594.8,488.357 1585.38,480.354 1576.08,472.355 1566.53,464.384 1556.98,456.432 1547.28,448.595 1537.55,440.869 1527.88,433.038 1517.95,425.46 1507.9,417.876 \n",
       "  1497.68,410.419 1487.69,402.909 1477.67,395.516 1467.41,388.133 1456.76,381.166 1446.64,373.723 1436.17,366.683 1425.87,359.687 1415.15,352.787 1404.57,345.964 \n",
       "  1393.93,339.221 1383.1,332.592 1372.47,326.073 1361.65,319.662 1350.65,313.313 1339.49,307.26 1328.69,301.022 1317.77,295.029 1306.46,289.299 1295.47,283.385 \n",
       "  1284.1,277.858 1272.92,272.241 1261.84,266.8 1250.52,261.509 1239.09,256.34 1227.81,251.319 1215.94,246.681 1205.06,241.658 1193.41,237.019 1181.74,232.545 \n",
       "  1169.99,228.505 1158.9,223.87 1147.27,219.827 1135.81,215.768 1124.05,212.018 1112.41,208.311 1100.97,204.679 1089.11,201.345 1077.61,198.05 1065.84,194.879 \n",
       "  1054.14,191.899 1042.52,188.978 1030.73,186.333 1019.32,183.703 1007.62,181.268 995.936,178.962 984.325,176.79 972.675,174.774 960.976,172.882 949.323,171.131 \n",
       "  937.822,169.493 926.225,168.018 914.765,166.637 902.864,165.658 891.58,164.394 880.042,163.453 868.657,162.64 857.197,162.08 845.681,161.513 834.306,161.079 \n",
       "  \n",
       "  \"/>\n",
       "<path clip-path=\"url(#clip010)\" d=\"\n",
       "M1835.46 348.236 L2281.64 348.236 L2281.64 166.796 L1835.46 166.796  Z\n",
       "  \" fill=\"#ffffff\" fill-rule=\"evenodd\" fill-opacity=\"1\"/>\n",
       "<polyline clip-path=\"url(#clip010)\" style=\"stroke:#000000; stroke-linecap:butt; stroke-linejoin:round; stroke-width:4; stroke-opacity:1; fill:none\" points=\"\n",
       "  1835.46,348.236 2281.64,348.236 2281.64,166.796 1835.46,166.796 1835.46,348.236 \n",
       "  \"/>\n",
       "<polyline clip-path=\"url(#clip010)\" style=\"stroke:#009af9; stroke-linecap:butt; stroke-linejoin:round; stroke-width:4; stroke-opacity:1; fill:none\" points=\"\n",
       "  1859.16,227.276 2001.39,227.276 \n",
       "  \"/>\n",
       "<path clip-path=\"url(#clip010)\" d=\"M2052.96 212.658 L2052.96 217.588 Q2050.6 215.389 2047.92 214.301 Q2045.25 213.213 2042.25 213.213 Q2036.32 213.213 2033.17 216.848 Q2030.02 220.459 2030.02 227.31 Q2030.02 234.139 2033.17 237.773 Q2036.32 241.384 2042.25 241.384 Q2045.25 241.384 2047.92 240.296 Q2050.6 239.209 2052.96 237.009 L2052.96 241.894 Q2050.51 243.56 2047.75 244.394 Q2045.02 245.227 2041.97 245.227 Q2034.12 245.227 2029.61 240.435 Q2025.09 235.621 2025.09 227.31 Q2025.09 218.977 2029.61 214.186 Q2034.12 209.371 2041.97 209.371 Q2045.07 209.371 2047.8 210.204 Q2050.56 211.014 2052.96 212.658 Z\" fill=\"#000000\" fill-rule=\"evenodd\" fill-opacity=\"1\" /><path clip-path=\"url(#clip010)\" d=\"M2060 208.537 L2064.26 208.537 L2064.26 244.556 L2060 244.556 L2060 208.537 Z\" fill=\"#000000\" fill-rule=\"evenodd\" fill-opacity=\"1\" /><path clip-path=\"url(#clip010)\" d=\"M2095.35 230.528 L2095.35 232.611 L2075.76 232.611 Q2076.04 237.009 2078.4 239.324 Q2080.79 241.616 2085.02 241.616 Q2087.48 241.616 2089.77 241.014 Q2092.08 240.412 2094.35 239.209 L2094.35 243.236 Q2092.06 244.208 2089.65 244.718 Q2087.25 245.227 2084.77 245.227 Q2078.56 245.227 2074.93 241.616 Q2071.32 238.005 2071.32 231.847 Q2071.32 225.482 2074.75 221.755 Q2078.19 218.005 2084.03 218.005 Q2089.26 218.005 2092.29 221.385 Q2095.35 224.741 2095.35 230.528 M2091.09 229.278 Q2091.04 225.783 2089.12 223.699 Q2087.22 221.616 2084.07 221.616 Q2080.51 221.616 2078.36 223.63 Q2076.23 225.644 2075.9 229.301 L2091.09 229.278 Z\" fill=\"#000000\" fill-rule=\"evenodd\" fill-opacity=\"1\" /><path clip-path=\"url(#clip010)\" d=\"M2114.12 231.523 Q2108.96 231.523 2106.97 232.704 Q2104.98 233.884 2104.98 236.732 Q2104.98 239 2106.46 240.343 Q2107.96 241.662 2110.53 241.662 Q2114.07 241.662 2116.2 239.162 Q2118.36 236.639 2118.36 232.472 L2118.36 231.523 L2114.12 231.523 M2122.62 229.764 L2122.62 244.556 L2118.36 244.556 L2118.36 240.621 Q2116.9 242.982 2114.72 244.116 Q2112.55 245.227 2109.4 245.227 Q2105.42 245.227 2103.06 243.005 Q2100.72 240.759 2100.72 237.009 Q2100.72 232.634 2103.63 230.412 Q2106.57 228.19 2112.38 228.19 L2118.36 228.19 L2118.36 227.773 Q2118.36 224.834 2116.41 223.236 Q2114.49 221.616 2110.99 221.616 Q2108.77 221.616 2106.67 222.148 Q2104.56 222.681 2102.62 223.746 L2102.62 219.81 Q2104.95 218.908 2107.15 218.468 Q2109.35 218.005 2111.43 218.005 Q2117.06 218.005 2119.84 220.922 Q2122.62 223.838 2122.62 229.764 Z\" fill=\"#000000\" fill-rule=\"evenodd\" fill-opacity=\"1\" /><path clip-path=\"url(#clip010)\" d=\"M2152.94 228.908 L2152.94 244.556 L2148.68 244.556 L2148.68 229.047 Q2148.68 225.366 2147.24 223.537 Q2145.81 221.709 2142.94 221.709 Q2139.49 221.709 2137.5 223.908 Q2135.51 226.107 2135.51 229.903 L2135.51 244.556 L2131.23 244.556 L2131.23 218.63 L2135.51 218.63 L2135.51 222.658 Q2137.04 220.32 2139.1 219.162 Q2141.18 218.005 2143.89 218.005 Q2148.36 218.005 2150.65 220.783 Q2152.94 223.537 2152.94 228.908 Z\" fill=\"#000000\" fill-rule=\"evenodd\" fill-opacity=\"1\" /><path clip-path=\"url(#clip010)\" d=\"M2176.16 209.996 L2180.86 209.996 L2180.86 230.991 Q2180.86 236.547 2182.87 239 Q2184.88 241.431 2189.4 241.431 Q2193.89 241.431 2195.9 239 Q2197.92 236.547 2197.92 230.991 L2197.92 209.996 L2202.61 209.996 L2202.61 231.57 Q2202.61 238.329 2199.26 241.778 Q2195.93 245.227 2189.4 245.227 Q2182.85 245.227 2179.49 241.778 Q2176.16 238.329 2176.16 231.57 L2176.16 209.996 Z\" fill=\"#000000\" fill-rule=\"evenodd\" fill-opacity=\"1\" /><path clip-path=\"url(#clip010)\" d=\"M2215.32 240.667 L2215.32 254.417 L2211.04 254.417 L2211.04 218.63 L2215.32 218.63 L2215.32 222.565 Q2216.67 220.25 2218.7 219.139 Q2220.76 218.005 2223.61 218.005 Q2228.33 218.005 2231.27 221.755 Q2234.24 225.505 2234.24 231.616 Q2234.24 237.727 2231.27 241.477 Q2228.33 245.227 2223.61 245.227 Q2220.76 245.227 2218.7 244.116 Q2216.67 242.982 2215.32 240.667 M2229.81 231.616 Q2229.81 226.917 2227.87 224.255 Q2225.95 221.57 2222.57 221.57 Q2219.19 221.57 2217.24 224.255 Q2215.32 226.917 2215.32 231.616 Q2215.32 236.315 2217.24 239 Q2219.19 241.662 2222.57 241.662 Q2225.95 241.662 2227.87 239 Q2229.81 236.315 2229.81 231.616 Z\" fill=\"#000000\" fill-rule=\"evenodd\" fill-opacity=\"1\" /><polyline clip-path=\"url(#clip010)\" style=\"stroke:#000000; stroke-linecap:butt; stroke-linejoin:round; stroke-width:4; stroke-opacity:1; fill:none\" stroke-dasharray=\"16, 10\" points=\"\n",
       "  1859.16,287.756 2001.39,287.756 \n",
       "  \"/>\n",
       "<path clip-path=\"url(#clip010)\" d=\"M2041.48 288.832 Q2042.99 289.341 2044.4 291.008 Q2045.83 292.675 2047.27 295.591 L2052.01 305.036 L2046.99 305.036 L2042.57 296.17 Q2040.86 292.698 2039.24 291.564 Q2037.64 290.429 2034.86 290.429 L2029.77 290.429 L2029.77 305.036 L2025.09 305.036 L2025.09 270.476 L2035.65 270.476 Q2041.57 270.476 2044.49 272.953 Q2047.41 275.429 2047.41 280.429 Q2047.41 283.693 2045.88 285.846 Q2044.37 287.999 2041.48 288.832 M2029.77 274.318 L2029.77 286.587 L2035.65 286.587 Q2039.03 286.587 2040.74 285.036 Q2042.48 283.462 2042.48 280.429 Q2042.48 277.397 2040.74 275.869 Q2039.03 274.318 2035.65 274.318 L2029.77 274.318 Z\" fill=\"#000000\" fill-rule=\"evenodd\" fill-opacity=\"1\" /><path clip-path=\"url(#clip010)\" d=\"M2068.59 292.003 Q2063.43 292.003 2061.44 293.184 Q2059.44 294.364 2059.44 297.212 Q2059.44 299.48 2060.93 300.823 Q2062.43 302.142 2065 302.142 Q2068.54 302.142 2070.67 299.642 Q2072.82 297.119 2072.82 292.952 L2072.82 292.003 L2068.59 292.003 M2077.08 290.244 L2077.08 305.036 L2072.82 305.036 L2072.82 301.101 Q2071.37 303.462 2069.19 304.596 Q2067.01 305.707 2063.87 305.707 Q2059.88 305.707 2057.52 303.485 Q2055.19 301.239 2055.19 297.489 Q2055.19 293.114 2058.1 290.892 Q2061.04 288.67 2066.85 288.67 L2072.82 288.67 L2072.82 288.253 Q2072.82 285.314 2070.88 283.716 Q2068.96 282.096 2065.46 282.096 Q2063.24 282.096 2061.13 282.628 Q2059.03 283.161 2057.08 284.226 L2057.08 280.29 Q2059.42 279.388 2061.62 278.948 Q2063.82 278.485 2065.9 278.485 Q2071.53 278.485 2074.31 281.402 Q2077.08 284.318 2077.08 290.244 Z\" fill=\"#000000\" fill-rule=\"evenodd\" fill-opacity=\"1\" /><path clip-path=\"url(#clip010)\" d=\"M2107.41 289.388 L2107.41 305.036 L2103.15 305.036 L2103.15 289.527 Q2103.15 285.846 2101.71 284.017 Q2100.28 282.189 2097.41 282.189 Q2093.96 282.189 2091.97 284.388 Q2089.98 286.587 2089.98 290.383 L2089.98 305.036 L2085.69 305.036 L2085.69 269.017 L2089.98 269.017 L2089.98 283.138 Q2091.5 280.8 2093.56 279.642 Q2095.65 278.485 2098.36 278.485 Q2102.82 278.485 2105.12 281.263 Q2107.41 284.017 2107.41 289.388 Z\" fill=\"#000000\" fill-rule=\"evenodd\" fill-opacity=\"1\" /><path clip-path=\"url(#clip010)\" d=\"M2115.46 294.804 L2115.46 279.11 L2119.72 279.11 L2119.72 294.642 Q2119.72 298.323 2121.16 300.175 Q2122.59 302.003 2125.46 302.003 Q2128.91 302.003 2130.9 299.804 Q2132.92 297.605 2132.92 293.809 L2132.92 279.11 L2137.18 279.11 L2137.18 305.036 L2132.92 305.036 L2132.92 301.054 Q2131.37 303.415 2129.31 304.573 Q2127.27 305.707 2124.56 305.707 Q2120.09 305.707 2117.78 302.929 Q2115.46 300.151 2115.46 294.804 M2126.18 278.485 L2126.18 278.485 Z\" fill=\"#000000\" fill-rule=\"evenodd\" fill-opacity=\"1\" /><path clip-path=\"url(#clip010)\" d=\"M2145.95 269.017 L2150.21 269.017 L2150.21 305.036 L2145.95 305.036 L2145.95 269.017 Z\" fill=\"#000000\" fill-rule=\"evenodd\" fill-opacity=\"1\" /></svg>\n"
      ]
     },
     "execution_count": 18,
     "metadata": {},
     "output_type": "execute_result"
    }
   ],
   "source": [
    "using DelimitedFiles\n",
    "using Plots\n",
    "\n",
    "g = readdlm(\"tov_seq_pwp2.dat\")\n",
    "\n",
    "\n",
    "TMASS = g[4:203]\n",
    "TRAD = g[207:406]\n",
    "\n",
    "plot(R*1.482, M, xlabel = \"Radius (km)\", ylabel = \"Mass (M⊙)\", label = \"Clean Up\", title = \"Neutron Stars K = 123, γ = 2\", linewidth = 2)\n",
    "plot!(TMASS, TRAD, label = \"Rahul\", linestyle = :dash, linewidth = 4, color = :black)"
   ]
  },
  {
   "cell_type": "code",
   "execution_count": 17,
   "id": "e0ecbb23",
   "metadata": {},
   "outputs": [
    {
     "data": {
      "text/plain": [
       "dP (generic function with 1 method)"
      ]
     },
     "execution_count": 17,
     "metadata": {},
     "output_type": "execute_result"
    }
   ],
   "source": [
    "k = 123.0; γ = 2.0\n",
    "\n",
    "P(ρ) = k*ρ^γ\n",
    "dP(ρ) = γ*P(ρ)/ρ\n",
    "\n",
    "#TOV, R = make_TOV(1.0e-2, P, dP)\n",
    "\n",
    "#plot(TOV, vars = 1) #(RADIUS, DENSITY)\n",
    "\n",
    "#plot(ρ₀ * 6.17e17, M, xlabel = \"Central Density (g/cm³)\", ylabel = \"Mass (M⊙)\", label = \"Mat\", title = \"Neutron Stars K = 123, γ = 2\", linewidth = 2)"
   ]
  }
 ],
 "metadata": {
  "kernelspec": {
   "display_name": "Julia 1.6.1",
   "language": "julia",
   "name": "julia-1.6"
  },
  "language_info": {
   "file_extension": ".jl",
   "mimetype": "application/julia",
   "name": "julia",
   "version": "1.6.1"
  }
 },
 "nbformat": 4,
 "nbformat_minor": 5
}
